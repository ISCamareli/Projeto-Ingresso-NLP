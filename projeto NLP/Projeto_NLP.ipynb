{
  "cells": [
    {
      "cell_type": "markdown",
      "metadata": {
        "id": "r-sRYpxq-dEb"
      },
      "source": [
        "# **NLP: Projeto de Ingresso**\n",
        "\n",
        "#### Ánalise de sentimentos de um dataset de reviews de videogame da Amazon."
      ]
    },
    {
      "cell_type": "markdown",
      "metadata": {
        "id": "Z9ptGPz9gTPk"
      },
      "source": [
        "### Importando bibliotecas e dados"
      ]
    },
    {
      "cell_type": "code",
      "execution_count": 1,
      "metadata": {
        "id": "Xr-HNfWb9M0f"
      },
      "outputs": [],
      "source": [
        "import pandas as pd\n",
        "import matplotlib.pyplot as plt\n",
        "import seaborn as sns \n",
        "import plotly.express as px\n",
        "import numpy as np"
      ]
    },
    {
      "cell_type": "code",
      "execution_count": 2,
      "metadata": {
        "id": "1cFMtR_8_rRM"
      },
      "outputs": [],
      "source": [
        "df_train = pd.read_csv(\"video_games_reviews_train.csv\")\n",
        "df_test = pd.read_csv(\"video_games_reviews_test.csv\")\n",
        "df_dev = pd.read_csv(\"video_games_reviews_dev.csv\")"
      ]
    },
    {
      "cell_type": "markdown",
      "metadata": {
        "id": "COPatRMcgj74"
      },
      "source": [
        "### Observações iniciais"
      ]
    },
    {
      "cell_type": "code",
      "execution_count": 3,
      "metadata": {
        "id": "kADeBiIZBNKR"
      },
      "outputs": [
        {
          "data": {
            "text/html": [
              "<div>\n",
              "<style scoped>\n",
              "    .dataframe tbody tr th:only-of-type {\n",
              "        vertical-align: middle;\n",
              "    }\n",
              "\n",
              "    .dataframe tbody tr th {\n",
              "        vertical-align: top;\n",
              "    }\n",
              "\n",
              "    .dataframe thead th {\n",
              "        text-align: right;\n",
              "    }\n",
              "</style>\n",
              "<table border=\"1\" class=\"dataframe\">\n",
              "  <thead>\n",
              "    <tr style=\"text-align: right;\">\n",
              "      <th></th>\n",
              "      <th>level_0</th>\n",
              "      <th>index</th>\n",
              "      <th>reviewerID</th>\n",
              "      <th>asin</th>\n",
              "      <th>reviewerName</th>\n",
              "      <th>helpful</th>\n",
              "      <th>reviewText</th>\n",
              "      <th>overall</th>\n",
              "      <th>summary</th>\n",
              "      <th>unixReviewTime</th>\n",
              "      <th>reviewTime</th>\n",
              "    </tr>\n",
              "  </thead>\n",
              "  <tbody>\n",
              "    <tr>\n",
              "      <th>0</th>\n",
              "      <td>9604</td>\n",
              "      <td>222941</td>\n",
              "      <td>A1U1AK7HKB2BLN</td>\n",
              "      <td>B00CX6XKK6</td>\n",
              "      <td>jayfer</td>\n",
              "      <td>[4, 51]</td>\n",
              "      <td>ive got to play this on both consoles now and ...</td>\n",
              "      <td>1</td>\n",
              "      <td>wasted 500 dollars on the xbox one.</td>\n",
              "      <td>1385078400</td>\n",
              "      <td>11 22, 2013</td>\n",
              "    </tr>\n",
              "    <tr>\n",
              "      <th>1</th>\n",
              "      <td>5428</td>\n",
              "      <td>106670</td>\n",
              "      <td>A1L1D50VH2AX7J</td>\n",
              "      <td>B0017UFWMS</td>\n",
              "      <td>Anjoyla</td>\n",
              "      <td>[0, 0]</td>\n",
              "      <td>This game gives you a series of word puzzles t...</td>\n",
              "      <td>2</td>\n",
              "      <td>Margots Word Brain</td>\n",
              "      <td>1321833600</td>\n",
              "      <td>11 21, 2011</td>\n",
              "    </tr>\n",
              "    <tr>\n",
              "      <th>2</th>\n",
              "      <td>198</td>\n",
              "      <td>24455</td>\n",
              "      <td>A2JWU211CM0BYE</td>\n",
              "      <td>B00005RCR0</td>\n",
              "      <td>DCN2049</td>\n",
              "      <td>[0, 1]</td>\n",
              "      <td>You should pretty much already know what this ...</td>\n",
              "      <td>4</td>\n",
              "      <td>Excellent product, watch the discs</td>\n",
              "      <td>1360540800</td>\n",
              "      <td>02 11, 2013</td>\n",
              "    </tr>\n",
              "    <tr>\n",
              "      <th>3</th>\n",
              "      <td>6070</td>\n",
              "      <td>42574</td>\n",
              "      <td>A1DP3YZ2OQWAP4</td>\n",
              "      <td>B0000ARQMW</td>\n",
              "      <td>liz</td>\n",
              "      <td>[0, 0]</td>\n",
              "      <td>I really like this game i love all the challen...</td>\n",
              "      <td>5</td>\n",
              "      <td>Jammin banging game</td>\n",
              "      <td>1383436800</td>\n",
              "      <td>11 3, 2013</td>\n",
              "    </tr>\n",
              "    <tr>\n",
              "      <th>4</th>\n",
              "      <td>11616</td>\n",
              "      <td>172598</td>\n",
              "      <td>A48Z207T98FN0</td>\n",
              "      <td>B004HYK8Y8</td>\n",
              "      <td>The Reverend</td>\n",
              "      <td>[296, 368]</td>\n",
              "      <td>*** please read the 12/9/11 update below this ...</td>\n",
              "      <td>1</td>\n",
              "      <td>Consumers are NOT Beta-Testers !!! (updated)</td>\n",
              "      <td>1322784000</td>\n",
              "      <td>12 2, 2011</td>\n",
              "    </tr>\n",
              "  </tbody>\n",
              "</table>\n",
              "</div>"
            ],
            "text/plain": [
              "   level_0   index      reviewerID        asin  reviewerName     helpful  \\\n",
              "0     9604  222941  A1U1AK7HKB2BLN  B00CX6XKK6        jayfer     [4, 51]   \n",
              "1     5428  106670  A1L1D50VH2AX7J  B0017UFWMS       Anjoyla      [0, 0]   \n",
              "2      198   24455  A2JWU211CM0BYE  B00005RCR0       DCN2049      [0, 1]   \n",
              "3     6070   42574  A1DP3YZ2OQWAP4  B0000ARQMW           liz      [0, 0]   \n",
              "4    11616  172598   A48Z207T98FN0  B004HYK8Y8  The Reverend  [296, 368]   \n",
              "\n",
              "                                          reviewText  overall  \\\n",
              "0  ive got to play this on both consoles now and ...        1   \n",
              "1  This game gives you a series of word puzzles t...        2   \n",
              "2  You should pretty much already know what this ...        4   \n",
              "3  I really like this game i love all the challen...        5   \n",
              "4  *** please read the 12/9/11 update below this ...        1   \n",
              "\n",
              "                                        summary  unixReviewTime   reviewTime  \n",
              "0           wasted 500 dollars on the xbox one.      1385078400  11 22, 2013  \n",
              "1                            Margots Word Brain      1321833600  11 21, 2011  \n",
              "2            Excellent product, watch the discs      1360540800  02 11, 2013  \n",
              "3                           Jammin banging game      1383436800   11 3, 2013  \n",
              "4  Consumers are NOT Beta-Testers !!! (updated)      1322784000   12 2, 2011  "
            ]
          },
          "execution_count": 3,
          "metadata": {},
          "output_type": "execute_result"
        }
      ],
      "source": [
        "df_train.head()"
      ]
    },
    {
      "cell_type": "code",
      "execution_count": 4,
      "metadata": {
        "id": "vgD4MbkaBye4"
      },
      "outputs": [
        {
          "name": "stdout",
          "output_type": "stream",
          "text": [
            "<class 'pandas.core.frame.DataFrame'>\n",
            "RangeIndex: 8000 entries, 0 to 7999\n",
            "Data columns (total 11 columns):\n",
            " #   Column          Non-Null Count  Dtype \n",
            "---  ------          --------------  ----- \n",
            " 0   level_0         8000 non-null   int64 \n",
            " 1   index           8000 non-null   int64 \n",
            " 2   reviewerID      8000 non-null   object\n",
            " 3   asin            8000 non-null   object\n",
            " 4   reviewerName    7916 non-null   object\n",
            " 5   helpful         8000 non-null   object\n",
            " 6   reviewText      7999 non-null   object\n",
            " 7   overall         8000 non-null   int64 \n",
            " 8   summary         8000 non-null   object\n",
            " 9   unixReviewTime  8000 non-null   int64 \n",
            " 10  reviewTime      8000 non-null   object\n",
            "dtypes: int64(4), object(7)\n",
            "memory usage: 687.6+ KB\n"
          ]
        }
      ],
      "source": [
        "df_train.info()"
      ]
    },
    {
      "cell_type": "markdown",
      "metadata": {
        "id": "-NmmHXIDC8PT"
      },
      "source": [
        "Assim, temos:\n",
        "\n",
        "- reviewerID: ID do revisor;\n",
        "- asin: ID do produto;\n",
        "- reviewerName: nome do revisor;\n",
        "- helpful: classificação da utilidade da review;\n",
        "- reviewText: texto da review;\n",
        "- overall: classificação do produto;\n",
        "- summary: sumário da review;\n",
        "- unixReviewTime: data unix da review;\n",
        "- reviewTime: data da review."
      ]
    },
    {
      "cell_type": "code",
      "execution_count": 5,
      "metadata": {
        "id": "nnBcyEDvEWkO"
      },
      "outputs": [
        {
          "data": {
            "text/html": [
              "<div>\n",
              "<style scoped>\n",
              "    .dataframe tbody tr th:only-of-type {\n",
              "        vertical-align: middle;\n",
              "    }\n",
              "\n",
              "    .dataframe tbody tr th {\n",
              "        vertical-align: top;\n",
              "    }\n",
              "\n",
              "    .dataframe thead th {\n",
              "        text-align: right;\n",
              "    }\n",
              "</style>\n",
              "<table border=\"1\" class=\"dataframe\">\n",
              "  <thead>\n",
              "    <tr style=\"text-align: right;\">\n",
              "      <th></th>\n",
              "      <th>count</th>\n",
              "      <th>mean</th>\n",
              "      <th>std</th>\n",
              "      <th>min</th>\n",
              "      <th>25%</th>\n",
              "      <th>50%</th>\n",
              "      <th>75%</th>\n",
              "      <th>max</th>\n",
              "    </tr>\n",
              "  </thead>\n",
              "  <tbody>\n",
              "    <tr>\n",
              "      <th>level_0</th>\n",
              "      <td>8000.0</td>\n",
              "      <td>6.260771e+03</td>\n",
              "      <td>3.615951e+03</td>\n",
              "      <td>0.0</td>\n",
              "      <td>3.123500e+03</td>\n",
              "      <td>6.281500e+03</td>\n",
              "      <td>9.398250e+03</td>\n",
              "      <td>1.249800e+04</td>\n",
              "    </tr>\n",
              "    <tr>\n",
              "      <th>index</th>\n",
              "      <td>8000.0</td>\n",
              "      <td>1.155899e+05</td>\n",
              "      <td>6.623350e+04</td>\n",
              "      <td>0.0</td>\n",
              "      <td>5.911600e+04</td>\n",
              "      <td>1.132665e+05</td>\n",
              "      <td>1.719198e+05</td>\n",
              "      <td>2.317790e+05</td>\n",
              "    </tr>\n",
              "    <tr>\n",
              "      <th>overall</th>\n",
              "      <td>8000.0</td>\n",
              "      <td>3.015625e+00</td>\n",
              "      <td>1.416909e+00</td>\n",
              "      <td>1.0</td>\n",
              "      <td>2.000000e+00</td>\n",
              "      <td>3.000000e+00</td>\n",
              "      <td>4.000000e+00</td>\n",
              "      <td>5.000000e+00</td>\n",
              "    </tr>\n",
              "    <tr>\n",
              "      <th>unixReviewTime</th>\n",
              "      <td>8000.0</td>\n",
              "      <td>1.272152e+09</td>\n",
              "      <td>1.161811e+08</td>\n",
              "      <td>942192000.0</td>\n",
              "      <td>1.206317e+09</td>\n",
              "      <td>1.309262e+09</td>\n",
              "      <td>1.365228e+09</td>\n",
              "      <td>1.405987e+09</td>\n",
              "    </tr>\n",
              "  </tbody>\n",
              "</table>\n",
              "</div>"
            ],
            "text/plain": [
              "                 count          mean           std          min           25%  \\\n",
              "level_0         8000.0  6.260771e+03  3.615951e+03          0.0  3.123500e+03   \n",
              "index           8000.0  1.155899e+05  6.623350e+04          0.0  5.911600e+04   \n",
              "overall         8000.0  3.015625e+00  1.416909e+00          1.0  2.000000e+00   \n",
              "unixReviewTime  8000.0  1.272152e+09  1.161811e+08  942192000.0  1.206317e+09   \n",
              "\n",
              "                         50%           75%           max  \n",
              "level_0         6.281500e+03  9.398250e+03  1.249800e+04  \n",
              "index           1.132665e+05  1.719198e+05  2.317790e+05  \n",
              "overall         3.000000e+00  4.000000e+00  5.000000e+00  \n",
              "unixReviewTime  1.309262e+09  1.365228e+09  1.405987e+09  "
            ]
          },
          "execution_count": 5,
          "metadata": {},
          "output_type": "execute_result"
        }
      ],
      "source": [
        "df_train.describe().T"
      ]
    },
    {
      "cell_type": "code",
      "execution_count": 6,
      "metadata": {
        "id": "KmZaxtmVBvLz"
      },
      "outputs": [
        {
          "data": {
            "text/html": [
              "<div>\n",
              "<style scoped>\n",
              "    .dataframe tbody tr th:only-of-type {\n",
              "        vertical-align: middle;\n",
              "    }\n",
              "\n",
              "    .dataframe tbody tr th {\n",
              "        vertical-align: top;\n",
              "    }\n",
              "\n",
              "    .dataframe thead th {\n",
              "        text-align: right;\n",
              "    }\n",
              "</style>\n",
              "<table border=\"1\" class=\"dataframe\">\n",
              "  <thead>\n",
              "    <tr style=\"text-align: right;\">\n",
              "      <th></th>\n",
              "      <th>count</th>\n",
              "      <th>unique</th>\n",
              "      <th>top</th>\n",
              "      <th>freq</th>\n",
              "    </tr>\n",
              "  </thead>\n",
              "  <tbody>\n",
              "    <tr>\n",
              "      <th>reviewerID</th>\n",
              "      <td>8000</td>\n",
              "      <td>6038</td>\n",
              "      <td>AJKWF4W7QD4NS</td>\n",
              "      <td>29</td>\n",
              "    </tr>\n",
              "    <tr>\n",
              "      <th>asin</th>\n",
              "      <td>8000</td>\n",
              "      <td>4368</td>\n",
              "      <td>B00178630A</td>\n",
              "      <td>35</td>\n",
              "    </tr>\n",
              "    <tr>\n",
              "      <th>reviewerName</th>\n",
              "      <td>7916</td>\n",
              "      <td>5709</td>\n",
              "      <td>Amazon Customer</td>\n",
              "      <td>56</td>\n",
              "    </tr>\n",
              "    <tr>\n",
              "      <th>helpful</th>\n",
              "      <td>8000</td>\n",
              "      <td>783</td>\n",
              "      <td>[0, 0]</td>\n",
              "      <td>2381</td>\n",
              "    </tr>\n",
              "    <tr>\n",
              "      <th>reviewText</th>\n",
              "      <td>7999</td>\n",
              "      <td>7999</td>\n",
              "      <td>ive got to play this on both consoles now and ...</td>\n",
              "      <td>1</td>\n",
              "    </tr>\n",
              "    <tr>\n",
              "      <th>summary</th>\n",
              "      <td>8000</td>\n",
              "      <td>7574</td>\n",
              "      <td>Great game</td>\n",
              "      <td>22</td>\n",
              "    </tr>\n",
              "    <tr>\n",
              "      <th>reviewTime</th>\n",
              "      <td>8000</td>\n",
              "      <td>3361</td>\n",
              "      <td>11 22, 2013</td>\n",
              "      <td>18</td>\n",
              "    </tr>\n",
              "  </tbody>\n",
              "</table>\n",
              "</div>"
            ],
            "text/plain": [
              "             count unique                                                top  \\\n",
              "reviewerID    8000   6038                                      AJKWF4W7QD4NS   \n",
              "asin          8000   4368                                         B00178630A   \n",
              "reviewerName  7916   5709                                    Amazon Customer   \n",
              "helpful       8000    783                                             [0, 0]   \n",
              "reviewText    7999   7999  ive got to play this on both consoles now and ...   \n",
              "summary       8000   7574                                         Great game   \n",
              "reviewTime    8000   3361                                        11 22, 2013   \n",
              "\n",
              "              freq  \n",
              "reviewerID      29  \n",
              "asin            35  \n",
              "reviewerName    56  \n",
              "helpful       2381  \n",
              "reviewText       1  \n",
              "summary         22  \n",
              "reviewTime      18  "
            ]
          },
          "execution_count": 6,
          "metadata": {},
          "output_type": "execute_result"
        }
      ],
      "source": [
        "df_train.describe(include=['object']).T"
      ]
    },
    {
      "cell_type": "markdown",
      "metadata": {
        "id": "TbCkbCI2Cao1"
      },
      "source": [
        "## **Parte 1 - Pré-precessamento**"
      ]
    },
    {
      "cell_type": "markdown",
      "metadata": {},
      "source": [
        "### Limpeza de dados"
      ]
    },
    {
      "cell_type": "code",
      "execution_count": 7,
      "metadata": {
        "id": "8bpMCuOWuIlz"
      },
      "outputs": [
        {
          "data": {
            "text/plain": [
              "\"I was expecting a cool combat system for LC. Never got it. Moves feel choppy and disconnected to my inputs and scenarios were not that interesting. Since I paid only $20, I may have kept it for the sex-appeal, but that also lacked. Like some slutty teenager, this game tries to hard to get you excited, but fails. Or maybe I'm getting to old for this? No, kids are all wrong. :P\""
            ]
          },
          "execution_count": 7,
          "metadata": {},
          "output_type": "execute_result"
        }
      ],
      "source": [
        "df_train.reviewText[20]"
      ]
    },
    {
      "cell_type": "code",
      "execution_count": 8,
      "metadata": {
        "id": "xz25lwG43ZNt"
      },
      "outputs": [],
      "source": [
        "df_train.dropna(subset = ['reviewText'], inplace = True)"
      ]
    },
    {
      "cell_type": "code",
      "execution_count": 9,
      "metadata": {
        "id": "ZzvT_YC2qW6G"
      },
      "outputs": [],
      "source": [
        "df_test.dropna(subset = ['reviewText'], inplace = True)"
      ]
    },
    {
      "cell_type": "code",
      "execution_count": 10,
      "metadata": {
        "id": "N9Z8mJTe5nlO"
      },
      "outputs": [],
      "source": [
        "df_dev.dropna(subset = ['reviewText'], inplace = True)"
      ]
    },
    {
      "cell_type": "markdown",
      "metadata": {
        "id": "twuTAK0rX8Fs"
      },
      "source": [
        "### Alterando letras maiúsculas"
      ]
    },
    {
      "cell_type": "code",
      "execution_count": 11,
      "metadata": {
        "id": "yLZ-NuSpqgHy"
      },
      "outputs": [],
      "source": [
        "df_train['reviewText'] = df_train['reviewText'].str.lower()"
      ]
    },
    {
      "cell_type": "code",
      "execution_count": 12,
      "metadata": {
        "id": "QDlXzLbWqgrb"
      },
      "outputs": [],
      "source": [
        "df_test['reviewText'] = df_test['reviewText'].str.lower()"
      ]
    },
    {
      "cell_type": "code",
      "execution_count": 13,
      "metadata": {
        "id": "31CFoyOh5uMw"
      },
      "outputs": [],
      "source": [
        "df_dev['reviewText'] = df_dev['reviewText'].str.lower()"
      ]
    },
    {
      "cell_type": "code",
      "execution_count": 14,
      "metadata": {
        "colab": {
          "base_uri": "https://localhost:8080/",
          "height": 617
        },
        "id": "woAThDxW72yK",
        "outputId": "abed726e-ab32-4c15-9efd-74e898c26df7"
      },
      "outputs": [
        {
          "data": {
            "text/html": [
              "<div>\n",
              "<style scoped>\n",
              "    .dataframe tbody tr th:only-of-type {\n",
              "        vertical-align: middle;\n",
              "    }\n",
              "\n",
              "    .dataframe tbody tr th {\n",
              "        vertical-align: top;\n",
              "    }\n",
              "\n",
              "    .dataframe thead th {\n",
              "        text-align: right;\n",
              "    }\n",
              "</style>\n",
              "<table border=\"1\" class=\"dataframe\">\n",
              "  <thead>\n",
              "    <tr style=\"text-align: right;\">\n",
              "      <th></th>\n",
              "      <th>level_0</th>\n",
              "      <th>index</th>\n",
              "      <th>reviewerID</th>\n",
              "      <th>asin</th>\n",
              "      <th>reviewerName</th>\n",
              "      <th>helpful</th>\n",
              "      <th>reviewText</th>\n",
              "      <th>overall</th>\n",
              "      <th>summary</th>\n",
              "      <th>unixReviewTime</th>\n",
              "      <th>reviewTime</th>\n",
              "    </tr>\n",
              "  </thead>\n",
              "  <tbody>\n",
              "    <tr>\n",
              "      <th>0</th>\n",
              "      <td>9604</td>\n",
              "      <td>222941</td>\n",
              "      <td>A1U1AK7HKB2BLN</td>\n",
              "      <td>B00CX6XKK6</td>\n",
              "      <td>jayfer</td>\n",
              "      <td>[4, 51]</td>\n",
              "      <td>ive got to play this on both consoles now and ...</td>\n",
              "      <td>1</td>\n",
              "      <td>wasted 500 dollars on the xbox one.</td>\n",
              "      <td>1385078400</td>\n",
              "      <td>11 22, 2013</td>\n",
              "    </tr>\n",
              "    <tr>\n",
              "      <th>1</th>\n",
              "      <td>5428</td>\n",
              "      <td>106670</td>\n",
              "      <td>A1L1D50VH2AX7J</td>\n",
              "      <td>B0017UFWMS</td>\n",
              "      <td>Anjoyla</td>\n",
              "      <td>[0, 0]</td>\n",
              "      <td>this game gives you a series of word puzzles t...</td>\n",
              "      <td>2</td>\n",
              "      <td>Margots Word Brain</td>\n",
              "      <td>1321833600</td>\n",
              "      <td>11 21, 2011</td>\n",
              "    </tr>\n",
              "    <tr>\n",
              "      <th>2</th>\n",
              "      <td>198</td>\n",
              "      <td>24455</td>\n",
              "      <td>A2JWU211CM0BYE</td>\n",
              "      <td>B00005RCR0</td>\n",
              "      <td>DCN2049</td>\n",
              "      <td>[0, 1]</td>\n",
              "      <td>you should pretty much already know what this ...</td>\n",
              "      <td>4</td>\n",
              "      <td>Excellent product, watch the discs</td>\n",
              "      <td>1360540800</td>\n",
              "      <td>02 11, 2013</td>\n",
              "    </tr>\n",
              "    <tr>\n",
              "      <th>3</th>\n",
              "      <td>6070</td>\n",
              "      <td>42574</td>\n",
              "      <td>A1DP3YZ2OQWAP4</td>\n",
              "      <td>B0000ARQMW</td>\n",
              "      <td>liz</td>\n",
              "      <td>[0, 0]</td>\n",
              "      <td>i really like this game i love all the challen...</td>\n",
              "      <td>5</td>\n",
              "      <td>Jammin banging game</td>\n",
              "      <td>1383436800</td>\n",
              "      <td>11 3, 2013</td>\n",
              "    </tr>\n",
              "    <tr>\n",
              "      <th>4</th>\n",
              "      <td>11616</td>\n",
              "      <td>172598</td>\n",
              "      <td>A48Z207T98FN0</td>\n",
              "      <td>B004HYK8Y8</td>\n",
              "      <td>The Reverend</td>\n",
              "      <td>[296, 368]</td>\n",
              "      <td>*** please read the 12/9/11 update below this ...</td>\n",
              "      <td>1</td>\n",
              "      <td>Consumers are NOT Beta-Testers !!! (updated)</td>\n",
              "      <td>1322784000</td>\n",
              "      <td>12 2, 2011</td>\n",
              "    </tr>\n",
              "  </tbody>\n",
              "</table>\n",
              "</div>"
            ],
            "text/plain": [
              "   level_0   index      reviewerID        asin  reviewerName     helpful  \\\n",
              "0     9604  222941  A1U1AK7HKB2BLN  B00CX6XKK6        jayfer     [4, 51]   \n",
              "1     5428  106670  A1L1D50VH2AX7J  B0017UFWMS       Anjoyla      [0, 0]   \n",
              "2      198   24455  A2JWU211CM0BYE  B00005RCR0       DCN2049      [0, 1]   \n",
              "3     6070   42574  A1DP3YZ2OQWAP4  B0000ARQMW           liz      [0, 0]   \n",
              "4    11616  172598   A48Z207T98FN0  B004HYK8Y8  The Reverend  [296, 368]   \n",
              "\n",
              "                                          reviewText  overall  \\\n",
              "0  ive got to play this on both consoles now and ...        1   \n",
              "1  this game gives you a series of word puzzles t...        2   \n",
              "2  you should pretty much already know what this ...        4   \n",
              "3  i really like this game i love all the challen...        5   \n",
              "4  *** please read the 12/9/11 update below this ...        1   \n",
              "\n",
              "                                        summary  unixReviewTime   reviewTime  \n",
              "0           wasted 500 dollars on the xbox one.      1385078400  11 22, 2013  \n",
              "1                            Margots Word Brain      1321833600  11 21, 2011  \n",
              "2            Excellent product, watch the discs      1360540800  02 11, 2013  \n",
              "3                           Jammin banging game      1383436800   11 3, 2013  \n",
              "4  Consumers are NOT Beta-Testers !!! (updated)      1322784000   12 2, 2011  "
            ]
          },
          "execution_count": 14,
          "metadata": {},
          "output_type": "execute_result"
        }
      ],
      "source": [
        "df_train.head()"
      ]
    },
    {
      "cell_type": "code",
      "execution_count": 15,
      "metadata": {
        "colab": {
          "base_uri": "https://localhost:8080/",
          "height": 704
        },
        "id": "llMU07gw77pD",
        "outputId": "30e1aaaa-06e4-4e39-ca36-ad8c96f6ada2"
      },
      "outputs": [
        {
          "data": {
            "text/html": [
              "<div>\n",
              "<style scoped>\n",
              "    .dataframe tbody tr th:only-of-type {\n",
              "        vertical-align: middle;\n",
              "    }\n",
              "\n",
              "    .dataframe tbody tr th {\n",
              "        vertical-align: top;\n",
              "    }\n",
              "\n",
              "    .dataframe thead th {\n",
              "        text-align: right;\n",
              "    }\n",
              "</style>\n",
              "<table border=\"1\" class=\"dataframe\">\n",
              "  <thead>\n",
              "    <tr style=\"text-align: right;\">\n",
              "      <th></th>\n",
              "      <th>level_0</th>\n",
              "      <th>index</th>\n",
              "      <th>reviewerID</th>\n",
              "      <th>asin</th>\n",
              "      <th>reviewerName</th>\n",
              "      <th>helpful</th>\n",
              "      <th>reviewText</th>\n",
              "      <th>overall</th>\n",
              "      <th>summary</th>\n",
              "      <th>unixReviewTime</th>\n",
              "      <th>reviewTime</th>\n",
              "    </tr>\n",
              "  </thead>\n",
              "  <tbody>\n",
              "    <tr>\n",
              "      <th>0</th>\n",
              "      <td>12154</td>\n",
              "      <td>25980</td>\n",
              "      <td>A16416X67B4ZKJ</td>\n",
              "      <td>B00005V6BB</td>\n",
              "      <td>\"mcfly70\"</td>\n",
              "      <td>[1, 1]</td>\n",
              "      <td>moh was good and all, but when you reach the c...</td>\n",
              "      <td>4</td>\n",
              "      <td>MOH: THE ACTUAL WAR WAS BETTER THE 3RD MCFLY R...</td>\n",
              "      <td>1035158400</td>\n",
              "      <td>10 21, 2002</td>\n",
              "    </tr>\n",
              "    <tr>\n",
              "      <th>1</th>\n",
              "      <td>7333</td>\n",
              "      <td>215010</td>\n",
              "      <td>A2Q2ADX9C9I5WZ</td>\n",
              "      <td>B00AZWE7ES</td>\n",
              "      <td>MCRC</td>\n",
              "      <td>[0, 4]</td>\n",
              "      <td>i am so glad i only paid $15 for this game dur...</td>\n",
              "      <td>2</td>\n",
              "      <td>15 fps? really?</td>\n",
              "      <td>1399334400</td>\n",
              "      <td>05 6, 2014</td>\n",
              "    </tr>\n",
              "    <tr>\n",
              "      <th>2</th>\n",
              "      <td>6703</td>\n",
              "      <td>188851</td>\n",
              "      <td>A30IXQWBRD3GU9</td>\n",
              "      <td>B0053BCO00</td>\n",
              "      <td>Jerry</td>\n",
              "      <td>[0, 0]</td>\n",
              "      <td>forget this mario kart get mario kart ds or th...</td>\n",
              "      <td>3</td>\n",
              "      <td>ehhhh</td>\n",
              "      <td>1373414400</td>\n",
              "      <td>07 10, 2013</td>\n",
              "    </tr>\n",
              "    <tr>\n",
              "      <th>3</th>\n",
              "      <td>5649</td>\n",
              "      <td>93541</td>\n",
              "      <td>A1S7NYZF69KYAP</td>\n",
              "      <td>B000VRCNLG</td>\n",
              "      <td>Peanut Pedro</td>\n",
              "      <td>[0, 1]</td>\n",
              "      <td>when i purchased this game from amazon i certa...</td>\n",
              "      <td>1</td>\n",
              "      <td>Defective Disk/Great Seller</td>\n",
              "      <td>1348963200</td>\n",
              "      <td>09 30, 2012</td>\n",
              "    </tr>\n",
              "    <tr>\n",
              "      <th>4</th>\n",
              "      <td>2955</td>\n",
              "      <td>24169</td>\n",
              "      <td>A2MPAOYEC1KWEI</td>\n",
              "      <td>B00005R5PO</td>\n",
              "      <td>Mali</td>\n",
              "      <td>[0, 0]</td>\n",
              "      <td>i love platform games but not many are out the...</td>\n",
              "      <td>4</td>\n",
              "      <td>It's not Spyro...</td>\n",
              "      <td>1073260800</td>\n",
              "      <td>01 5, 2004</td>\n",
              "    </tr>\n",
              "  </tbody>\n",
              "</table>\n",
              "</div>"
            ],
            "text/plain": [
              "   level_0   index      reviewerID        asin  reviewerName helpful  \\\n",
              "0    12154   25980  A16416X67B4ZKJ  B00005V6BB     \"mcfly70\"  [1, 1]   \n",
              "1     7333  215010  A2Q2ADX9C9I5WZ  B00AZWE7ES          MCRC  [0, 4]   \n",
              "2     6703  188851  A30IXQWBRD3GU9  B0053BCO00         Jerry  [0, 0]   \n",
              "3     5649   93541  A1S7NYZF69KYAP  B000VRCNLG  Peanut Pedro  [0, 1]   \n",
              "4     2955   24169  A2MPAOYEC1KWEI  B00005R5PO          Mali  [0, 0]   \n",
              "\n",
              "                                          reviewText  overall  \\\n",
              "0  moh was good and all, but when you reach the c...        4   \n",
              "1  i am so glad i only paid $15 for this game dur...        2   \n",
              "2  forget this mario kart get mario kart ds or th...        3   \n",
              "3  when i purchased this game from amazon i certa...        1   \n",
              "4  i love platform games but not many are out the...        4   \n",
              "\n",
              "                                             summary  unixReviewTime  \\\n",
              "0  MOH: THE ACTUAL WAR WAS BETTER THE 3RD MCFLY R...      1035158400   \n",
              "1                                    15 fps? really?      1399334400   \n",
              "2                                              ehhhh      1373414400   \n",
              "3                        Defective Disk/Great Seller      1348963200   \n",
              "4                                  It's not Spyro...      1073260800   \n",
              "\n",
              "    reviewTime  \n",
              "0  10 21, 2002  \n",
              "1   05 6, 2014  \n",
              "2  07 10, 2013  \n",
              "3  09 30, 2012  \n",
              "4   01 5, 2004  "
            ]
          },
          "execution_count": 15,
          "metadata": {},
          "output_type": "execute_result"
        }
      ],
      "source": [
        "df_test.head()"
      ]
    },
    {
      "cell_type": "code",
      "execution_count": 16,
      "metadata": {
        "id": "eCtJCdula5RT"
      },
      "outputs": [
        {
          "data": {
            "text/plain": [
              "\"i was expecting a cool combat system for lc. never got it. moves feel choppy and disconnected to my inputs and scenarios were not that interesting. since i paid only $20, i may have kept it for the sex-appeal, but that also lacked. like some slutty teenager, this game tries to hard to get you excited, but fails. or maybe i'm getting to old for this? no, kids are all wrong. :p\""
            ]
          },
          "execution_count": 16,
          "metadata": {},
          "output_type": "execute_result"
        }
      ],
      "source": [
        "df_train.reviewText[20]"
      ]
    },
    {
      "cell_type": "code",
      "execution_count": 17,
      "metadata": {
        "id": "ZDbTfhI4PZsa"
      },
      "outputs": [
        {
          "data": {
            "text/plain": [
              "'having just completed this game the question on my mind is: what were they thinking?  since it\\'s early incarnation as an \\'80s 2d platformer prince of persia has been all about fluid animation, traps, and acrobatics.  now we have \"warrior within\"  a game that\\'s not even supposed to be played by anyone under 17.  i\\'m an adult who enjoys a lot of \"m\" rated games. prince of persia should not be one of them.  \"sands of time\" had a unique, disney-with-an-edge feel that \"warrior within\" completely sneers at.  did the halo guys call the ubi soft guys \"wusses\" at some game convention?  who knows.  something\\'s got to explain the abandonment of nearly everything that made sot a great game.and if you buy this game be prepared to spend a lot of time looking at loading screens.  but what about that rewind button?  there\\'s been some industry talk of doing away with the you died/reload screens and \"sands of time\" took a huge step in that direction with it\\'s innovative rewind feature.  \"warrior within\" still has rewind but it completely negates the system in parts of the game by giving you no sand and forcing you to navigate long series of traps under a strict time constraint. pause for a second and you\\'re instantly murdered in a cut scene (no fighting back) and booted out to the you died screen for a reload that puts you at the beginning of the traps (no quicksave).  there are times i reloaded many times just to get a one-second, pre-murder look at where to move next. guess how much fun that is! it goes far beyond just negating the rewind--there\\'s more reloading here than in the last 3 games i played combined (at least the load time is quick).  it\\'s amazing that ubi soft reversed direction and turned this sequel into a die-a-thon right up there with the worst tomb raider titles.by far the worst part is the level design.  by that i do not mean the rooms full of obstacles the prince must navigate--those are clever as ever.  i mean the overall pathways you must take to progress the game.  or, more specificaly, the constant backtracking required.  you can tell the developers were trying to stretch the game by reusing maps.  but the frustrating part was that they didn\\'t close off any of the wrong paths so you can burn an hour pursuing a dead end (enemies respawn, so no clues there).  if that\\'s not bad enough, there are two time modes for all the areas, so you can backtrack in the past as well as the present (the time modes want to be as cool as the shifting phases in \"legacy of kain\" but just aren\\'t). i was constantly unsure of the path i was on, even when on the correct one.  with so little feedback from the game even the fun parts were very worrying because i seldom knew if i was actually progressing.  the \"map\" they give you is a total joke.  imagine navigating a tangle of streets with one of those kids jigsaw puzzles of color-coded states.the one silver lining is the combat system.  it\\'s just beautiful.  much better than sot, which got old quickly. fighting in \"warrior within\" is like controlling a 3d ninja straight out of a pixar movie.  even at the end of the game i was still pulling moves that surprised me.  there aren\\'t too many games where i spend 15 minutes killing a room full of baddies and immediately reload for the pleasure of doing it all again.  that and the obstacle rooms kept me slogging through the frustrating parts. \"warrior within\" has many faults, but the work of the animators is beyond criticsm.  just put them under new management--hopefully someone who \"gets\" what prince of persia should be about.'"
            ]
          },
          "execution_count": 17,
          "metadata": {},
          "output_type": "execute_result"
        }
      ],
      "source": [
        "df_test.reviewText[20]"
      ]
    },
    {
      "cell_type": "markdown",
      "metadata": {
        "id": "l6jbbr3zDTD1"
      },
      "source": [
        "### Removendo pontuações"
      ]
    },
    {
      "cell_type": "code",
      "execution_count": 18,
      "metadata": {
        "id": "Gv8hpkSJDaBj"
      },
      "outputs": [],
      "source": [
        "import re"
      ]
    },
    {
      "cell_type": "code",
      "execution_count": 19,
      "metadata": {
        "id": "OSDdy0qgfMh_"
      },
      "outputs": [],
      "source": [
        "def remove_ponctuation(text):\n",
        "\n",
        "  text = re.sub(r'[^\\w\\s]', '', text)\n",
        "  return text"
      ]
    },
    {
      "cell_type": "markdown",
      "metadata": {},
      "source": [
        "#### df_train"
      ]
    },
    {
      "cell_type": "code",
      "execution_count": 20,
      "metadata": {
        "id": "1BZbLyRSfPm5"
      },
      "outputs": [],
      "source": [
        "df_train['reviewText'] = df_train.reviewText.apply(remove_ponctuation)"
      ]
    },
    {
      "cell_type": "markdown",
      "metadata": {},
      "source": [
        "#### df_test"
      ]
    },
    {
      "cell_type": "code",
      "execution_count": 21,
      "metadata": {
        "id": "6MeVf0Kdq52g"
      },
      "outputs": [],
      "source": [
        "df_test['reviewText'] = df_test.reviewText.apply(remove_ponctuation)"
      ]
    },
    {
      "cell_type": "markdown",
      "metadata": {},
      "source": [
        "#### df_dev"
      ]
    },
    {
      "cell_type": "code",
      "execution_count": 22,
      "metadata": {
        "id": "tn9-AR1l6aLl"
      },
      "outputs": [],
      "source": [
        "df_dev.reviewText = df_dev.reviewText.astype('str')"
      ]
    },
    {
      "cell_type": "code",
      "execution_count": 23,
      "metadata": {
        "id": "tiUgx7n-51uE"
      },
      "outputs": [],
      "source": [
        "df_dev['reviewText'] = df_dev.reviewText.apply(remove_ponctuation)"
      ]
    },
    {
      "cell_type": "code",
      "execution_count": 24,
      "metadata": {
        "id": "nCGnNZ6_4SfZ"
      },
      "outputs": [
        {
          "data": {
            "text/plain": [
              "'having just completed this game the question on my mind is what were they thinking  since its early incarnation as an 80s 2d platformer prince of persia has been all about fluid animation traps and acrobatics  now we have warrior within  a game thats not even supposed to be played by anyone under 17  im an adult who enjoys a lot of m rated games prince of persia should not be one of them  sands of time had a unique disneywithanedge feel that warrior within completely sneers at  did the halo guys call the ubi soft guys wusses at some game convention  who knows  somethings got to explain the abandonment of nearly everything that made sot a great gameand if you buy this game be prepared to spend a lot of time looking at loading screens  but what about that rewind button  theres been some industry talk of doing away with the you diedreload screens and sands of time took a huge step in that direction with its innovative rewind feature  warrior within still has rewind but it completely negates the system in parts of the game by giving you no sand and forcing you to navigate long series of traps under a strict time constraint pause for a second and youre instantly murdered in a cut scene no fighting back and booted out to the you died screen for a reload that puts you at the beginning of the traps no quicksave  there are times i reloaded many times just to get a onesecond premurder look at where to move next guess how much fun that is it goes far beyond just negating the rewindtheres more reloading here than in the last 3 games i played combined at least the load time is quick  its amazing that ubi soft reversed direction and turned this sequel into a dieathon right up there with the worst tomb raider titlesby far the worst part is the level design  by that i do not mean the rooms full of obstacles the prince must navigatethose are clever as ever  i mean the overall pathways you must take to progress the game  or more specificaly the constant backtracking required  you can tell the developers were trying to stretch the game by reusing maps  but the frustrating part was that they didnt close off any of the wrong paths so you can burn an hour pursuing a dead end enemies respawn so no clues there  if thats not bad enough there are two time modes for all the areas so you can backtrack in the past as well as the present the time modes want to be as cool as the shifting phases in legacy of kain but just arent i was constantly unsure of the path i was on even when on the correct one  with so little feedback from the game even the fun parts were very worrying because i seldom knew if i was actually progressing  the map they give you is a total joke  imagine navigating a tangle of streets with one of those kids jigsaw puzzles of colorcoded statesthe one silver lining is the combat system  its just beautiful  much better than sot which got old quickly fighting in warrior within is like controlling a 3d ninja straight out of a pixar movie  even at the end of the game i was still pulling moves that surprised me  there arent too many games where i spend 15 minutes killing a room full of baddies and immediately reload for the pleasure of doing it all again  that and the obstacle rooms kept me slogging through the frustrating parts warrior within has many faults but the work of the animators is beyond criticsm  just put them under new managementhopefully someone who gets what prince of persia should be about'"
            ]
          },
          "execution_count": 24,
          "metadata": {},
          "output_type": "execute_result"
        }
      ],
      "source": [
        "df_test.reviewText[20]"
      ]
    },
    {
      "cell_type": "code",
      "execution_count": 25,
      "metadata": {
        "id": "Yw7bIa56PkuE"
      },
      "outputs": [
        {
          "data": {
            "text/plain": [
              "'i was expecting a cool combat system for lc never got it moves feel choppy and disconnected to my inputs and scenarios were not that interesting since i paid only 20 i may have kept it for the sexappeal but that also lacked like some slutty teenager this game tries to hard to get you excited but fails or maybe im getting to old for this no kids are all wrong p'"
            ]
          },
          "execution_count": 25,
          "metadata": {},
          "output_type": "execute_result"
        }
      ],
      "source": [
        "df_train.reviewText[20]"
      ]
    },
    {
      "cell_type": "code",
      "execution_count": 26,
      "metadata": {},
      "outputs": [
        {
          "data": {
            "text/plain": [
              "'about three weeks ago i decided to buy a gaming desktop  with no knowledge of desktop gaming peripherals i searched amazon to try and find an awesome gaming mouse  youll never guess which one i decided to invest in  what  this one  well you guessed right  this mouse makes me happy in all the right waysprosfully customizable buttonseasy to use software for changing mouse optionsplacement of buttons is perfectgood logitech qualityconsthe weights that come with the mouse barely change the overall weightthe wheel buttons is a little difficult to push i end up rarely using it due to thisin conclusion i was quite satisfied with my purchase  there could be better mice out there but this one gets the job done for me at a decent price'"
            ]
          },
          "execution_count": 26,
          "metadata": {},
          "output_type": "execute_result"
        }
      ],
      "source": [
        "df_dev.reviewText[20]"
      ]
    },
    {
      "cell_type": "markdown",
      "metadata": {
        "id": "2xRst8IBbnh1"
      },
      "source": [
        "### Tokenização"
      ]
    },
    {
      "cell_type": "code",
      "execution_count": 27,
      "metadata": {
        "id": "TQiWSlyk4zx2"
      },
      "outputs": [],
      "source": [
        "import nltk"
      ]
    },
    {
      "cell_type": "code",
      "execution_count": 28,
      "metadata": {
        "colab": {
          "base_uri": "https://localhost:8080/"
        },
        "id": "3wQzPG0Z49q-",
        "outputId": "894b7bb2-c104-4118-9ee9-c4850c4b9d84"
      },
      "outputs": [
        {
          "name": "stderr",
          "output_type": "stream",
          "text": [
            "[nltk_data] Downloading package punkt to\n",
            "[nltk_data]     C:\\Users\\isaca\\AppData\\Roaming\\nltk_data...\n",
            "[nltk_data]   Package punkt is already up-to-date!\n"
          ]
        },
        {
          "data": {
            "text/plain": [
              "True"
            ]
          },
          "execution_count": 28,
          "metadata": {},
          "output_type": "execute_result"
        }
      ],
      "source": [
        "from nltk.tokenize import word_tokenize, sent_tokenize\n",
        "nltk.download('punkt')"
      ]
    },
    {
      "cell_type": "markdown",
      "metadata": {},
      "source": [
        "#### df_train"
      ]
    },
    {
      "cell_type": "code",
      "execution_count": 29,
      "metadata": {
        "id": "0Y8zlauuIDqW"
      },
      "outputs": [],
      "source": [
        "df_train['tokens'] = df_train['reviewText'].copy(deep = True)\n",
        "df_train['tokens'] = df_train['tokens'].apply(str)\n",
        "df_train['tokens'] = df_train['tokens'].apply(word_tokenize)"
      ]
    },
    {
      "cell_type": "code",
      "execution_count": 30,
      "metadata": {
        "colab": {
          "base_uri": "https://localhost:8080/"
        },
        "id": "Y2Uq0MqTL7jJ",
        "outputId": "ff95aa5a-b539-4a97-c01c-e601f5d3c3e2"
      },
      "outputs": [
        {
          "data": {
            "text/plain": [
              "0    [ive, got, to, play, this, on, both, consoles,...\n",
              "1    [this, game, gives, you, a, series, of, word, ...\n",
              "2    [you, should, pretty, much, already, know, wha...\n",
              "3    [i, really, like, this, game, i, love, all, th...\n",
              "4    [please, read, the, 12911, update, below, this...\n",
              "Name: tokens, dtype: object"
            ]
          },
          "execution_count": 30,
          "metadata": {},
          "output_type": "execute_result"
        }
      ],
      "source": [
        "df_train['tokens'].head()"
      ]
    },
    {
      "cell_type": "markdown",
      "metadata": {},
      "source": [
        "#### df_test"
      ]
    },
    {
      "cell_type": "code",
      "execution_count": 31,
      "metadata": {
        "id": "mAM50DMYDPNY"
      },
      "outputs": [],
      "source": [
        "df_test['tokens'] = df_test['reviewText'].copy(deep = True)\n",
        "df_test['tokens'] = df_test['tokens'].apply(str)\n",
        "df_test['tokens'] = df_test['tokens'].apply(word_tokenize)"
      ]
    },
    {
      "cell_type": "code",
      "execution_count": 32,
      "metadata": {
        "colab": {
          "base_uri": "https://localhost:8080/"
        },
        "id": "5ssK6vViDfL6",
        "outputId": "bf0254d5-f508-46fc-e53b-7fcc03cc029b"
      },
      "outputs": [
        {
          "data": {
            "text/plain": [
              "0    [moh, was, good, and, all, but, when, you, rea...\n",
              "1    [i, am, so, glad, i, only, paid, 15, for, this...\n",
              "2    [forget, this, mario, kart, get, mario, kart, ...\n",
              "3    [when, i, purchased, this, game, from, amazon,...\n",
              "4    [i, love, platform, games, but, not, many, are...\n",
              "Name: tokens, dtype: object"
            ]
          },
          "execution_count": 32,
          "metadata": {},
          "output_type": "execute_result"
        }
      ],
      "source": [
        "df_test['tokens'].head()"
      ]
    },
    {
      "cell_type": "markdown",
      "metadata": {},
      "source": [
        "#### df_dev"
      ]
    },
    {
      "cell_type": "code",
      "execution_count": 33,
      "metadata": {
        "id": "R1sBoVHG7aOk"
      },
      "outputs": [],
      "source": [
        "df_dev['tokens'] = df_dev['reviewText'].copy(deep = True)\n",
        "df_dev['tokens'] = df_dev['tokens'].apply(str)\n",
        "df_dev['tokens'] = df_dev['tokens'].apply(word_tokenize)"
      ]
    },
    {
      "cell_type": "code",
      "execution_count": 34,
      "metadata": {
        "colab": {
          "base_uri": "https://localhost:8080/"
        },
        "id": "faWpVC4L8YJN",
        "outputId": "53387774-960f-4b08-9d4b-b251df3350da"
      },
      "outputs": [
        {
          "data": {
            "text/plain": [
              "0    [to, start, off, this, review, let, me, tell, ...\n",
              "1    [iron, man, 2, on, nintendo, wii, is, really, ...\n",
              "2    [first, off, this, game, is, very, addicting, ...\n",
              "3    [this, is, seriously, the, best, simpsons, gam...\n",
              "4    [blacksite, has, a, great, story, a, very, cur...\n",
              "Name: tokens, dtype: object"
            ]
          },
          "execution_count": 34,
          "metadata": {},
          "output_type": "execute_result"
        }
      ],
      "source": [
        "df_dev['tokens'].head()"
      ]
    },
    {
      "cell_type": "markdown",
      "metadata": {
        "id": "bkY8LFSKbfzh"
      },
      "source": [
        "### Removendo Stopwords"
      ]
    },
    {
      "cell_type": "code",
      "execution_count": 35,
      "metadata": {
        "colab": {
          "base_uri": "https://localhost:8080/"
        },
        "id": "Os8cuOhLe1uE",
        "outputId": "4ef68c0a-6a57-44f5-b79c-536aceec4b31"
      },
      "outputs": [
        {
          "name": "stderr",
          "output_type": "stream",
          "text": [
            "[nltk_data] Downloading package stopwords to\n",
            "[nltk_data]     C:\\Users\\isaca\\AppData\\Roaming\\nltk_data...\n",
            "[nltk_data]   Package stopwords is already up-to-date!\n"
          ]
        }
      ],
      "source": [
        "nltk.download('stopwords')\n",
        "from nltk.corpus import stopwords"
      ]
    },
    {
      "cell_type": "code",
      "execution_count": 36,
      "metadata": {
        "id": "z_2FYWds8NLl"
      },
      "outputs": [],
      "source": [
        "stopwords = nltk.corpus.stopwords.words('english')"
      ]
    },
    {
      "cell_type": "markdown",
      "metadata": {},
      "source": [
        "#### df_train"
      ]
    },
    {
      "cell_type": "code",
      "execution_count": 37,
      "metadata": {
        "id": "Ly4gFBxZaFul"
      },
      "outputs": [],
      "source": [
        "df_train['tokens'] = df_train['tokens'].apply(\n",
        "    lambda x: [str(word) for word in x if word not in stopwords])"
      ]
    },
    {
      "cell_type": "code",
      "execution_count": 38,
      "metadata": {
        "colab": {
          "base_uri": "https://localhost:8080/"
        },
        "id": "9Y_OCVGQWsgB",
        "outputId": "e3607112-2e88-4308-e889-9dd1cc0d8ab7"
      },
      "outputs": [
        {
          "data": {
            "text/plain": [
              "0    [ive, got, play, consoles, honestly, say, look...\n",
              "1    [game, gives, series, word, puzzles, figure, b...\n",
              "2    [pretty, much, already, know, game, youre, rea...\n",
              "3    [really, like, game, love, challenges, love, d...\n",
              "4    [please, read, 12911, update, article, ps3, us...\n",
              "Name: tokens, dtype: object"
            ]
          },
          "execution_count": 38,
          "metadata": {},
          "output_type": "execute_result"
        }
      ],
      "source": [
        "df_train['tokens'].head()"
      ]
    },
    {
      "cell_type": "markdown",
      "metadata": {},
      "source": [
        "#### df_test"
      ]
    },
    {
      "cell_type": "code",
      "execution_count": 39,
      "metadata": {
        "id": "jvtYSO6HbBpO"
      },
      "outputs": [],
      "source": [
        "df_test['tokens'] = df_test['tokens'].apply(\n",
        "    lambda x: [str(word) for word in x if word not in stopwords])"
      ]
    },
    {
      "cell_type": "code",
      "execution_count": 40,
      "metadata": {
        "colab": {
          "base_uri": "https://localhost:8080/"
        },
        "id": "Ms1pLbIgQX_m",
        "outputId": "53bb6d81-0262-484f-d70a-c2302b81cab6"
      },
      "outputs": [
        {
          "data": {
            "text/plain": [
              "0    [moh, good, reach, couple, last, levels, there...\n",
              "1    [glad, paid, 15, game, sonys, golden, week, sa...\n",
              "2    [forget, mario, kart, get, mario, kart, ds, on...\n",
              "3    [purchased, game, amazon, certainly, looked, f...\n",
              "4    [love, platform, games, many, tried, crash, ba...\n",
              "Name: tokens, dtype: object"
            ]
          },
          "execution_count": 40,
          "metadata": {},
          "output_type": "execute_result"
        }
      ],
      "source": [
        "df_test['tokens'].head()"
      ]
    },
    {
      "cell_type": "markdown",
      "metadata": {},
      "source": [
        "#### df_dev"
      ]
    },
    {
      "cell_type": "code",
      "execution_count": 41,
      "metadata": {
        "id": "3wkT0auy8iQK"
      },
      "outputs": [],
      "source": [
        "df_dev['tokens'] = df_dev['tokens'].apply(\n",
        "    lambda x: [str(word) for word in x if word not in stopwords])"
      ]
    },
    {
      "cell_type": "code",
      "execution_count": 42,
      "metadata": {
        "colab": {
          "base_uri": "https://localhost:8080/"
        },
        "id": "BioorZPT8omP",
        "outputId": "a0b06607-1929-4b05-dd9c-08f98cb44c90"
      },
      "outputs": [
        {
          "data": {
            "text/plain": [
              "0    [start, review, let, tell, bought, mortal, kom...\n",
              "1    [iron, man, 2, nintendo, wii, really, fantasti...\n",
              "2    [first, game, addicting, much, fun, prince, pe...\n",
              "3    [seriously, best, simpsons, game, ever, ive, p...\n",
              "4    [blacksite, great, story, current, world, cour...\n",
              "Name: tokens, dtype: object"
            ]
          },
          "execution_count": 42,
          "metadata": {},
          "output_type": "execute_result"
        }
      ],
      "source": [
        "df_dev['tokens'].head()"
      ]
    },
    {
      "cell_type": "markdown",
      "metadata": {
        "id": "jJUM3KDY-jcY"
      },
      "source": [
        "### Lemmatização"
      ]
    },
    {
      "cell_type": "code",
      "execution_count": 43,
      "metadata": {
        "colab": {
          "base_uri": "https://localhost:8080/"
        },
        "id": "7GA_bRM4YkhG",
        "outputId": "48184924-4dc0-455b-ea28-15a802abc4ea"
      },
      "outputs": [
        {
          "name": "stderr",
          "output_type": "stream",
          "text": [
            "[nltk_data] Downloading package omw-1.4 to\n",
            "[nltk_data]     C:\\Users\\isaca\\AppData\\Roaming\\nltk_data...\n",
            "[nltk_data]   Package omw-1.4 is already up-to-date!\n"
          ]
        },
        {
          "data": {
            "text/plain": [
              "True"
            ]
          },
          "execution_count": 43,
          "metadata": {},
          "output_type": "execute_result"
        }
      ],
      "source": [
        "import nltk\n",
        "nltk.download('omw-1.4')"
      ]
    },
    {
      "cell_type": "code",
      "execution_count": 44,
      "metadata": {
        "id": "VhmqKZgyozpp"
      },
      "outputs": [],
      "source": [
        "lemmatizer = nltk.stem.WordNetLemmatizer()"
      ]
    },
    {
      "cell_type": "markdown",
      "metadata": {},
      "source": [
        "#### df_train"
      ]
    },
    {
      "cell_type": "code",
      "execution_count": 45,
      "metadata": {
        "id": "Ms0_9bzvncqc"
      },
      "outputs": [],
      "source": [
        "def lemmatize_text(text):\n",
        "  return [lemmatizer.lemmatize(w) for w in text]"
      ]
    },
    {
      "cell_type": "code",
      "execution_count": 46,
      "metadata": {
        "id": "6yLy0js6mcQd"
      },
      "outputs": [],
      "source": [
        "df_train['lemmas'] = df_train['tokens'].apply(lemmatize_text)"
      ]
    },
    {
      "cell_type": "code",
      "execution_count": 47,
      "metadata": {
        "colab": {
          "base_uri": "https://localhost:8080/",
          "height": 739
        },
        "id": "7aFnUhqrYtoG",
        "outputId": "c8eb9ae1-27c2-4044-86f6-652ab6da5cd9"
      },
      "outputs": [
        {
          "data": {
            "text/html": [
              "<div>\n",
              "<style scoped>\n",
              "    .dataframe tbody tr th:only-of-type {\n",
              "        vertical-align: middle;\n",
              "    }\n",
              "\n",
              "    .dataframe tbody tr th {\n",
              "        vertical-align: top;\n",
              "    }\n",
              "\n",
              "    .dataframe thead th {\n",
              "        text-align: right;\n",
              "    }\n",
              "</style>\n",
              "<table border=\"1\" class=\"dataframe\">\n",
              "  <thead>\n",
              "    <tr style=\"text-align: right;\">\n",
              "      <th></th>\n",
              "      <th>level_0</th>\n",
              "      <th>index</th>\n",
              "      <th>reviewerID</th>\n",
              "      <th>asin</th>\n",
              "      <th>reviewerName</th>\n",
              "      <th>helpful</th>\n",
              "      <th>reviewText</th>\n",
              "      <th>overall</th>\n",
              "      <th>summary</th>\n",
              "      <th>unixReviewTime</th>\n",
              "      <th>reviewTime</th>\n",
              "      <th>tokens</th>\n",
              "      <th>lemmas</th>\n",
              "    </tr>\n",
              "  </thead>\n",
              "  <tbody>\n",
              "    <tr>\n",
              "      <th>0</th>\n",
              "      <td>9604</td>\n",
              "      <td>222941</td>\n",
              "      <td>A1U1AK7HKB2BLN</td>\n",
              "      <td>B00CX6XKK6</td>\n",
              "      <td>jayfer</td>\n",
              "      <td>[4, 51]</td>\n",
              "      <td>ive got to play this on both consoles now and ...</td>\n",
              "      <td>1</td>\n",
              "      <td>wasted 500 dollars on the xbox one.</td>\n",
              "      <td>1385078400</td>\n",
              "      <td>11 22, 2013</td>\n",
              "      <td>[ive, got, play, consoles, honestly, say, look...</td>\n",
              "      <td>[ive, got, play, console, honestly, say, look,...</td>\n",
              "    </tr>\n",
              "    <tr>\n",
              "      <th>1</th>\n",
              "      <td>5428</td>\n",
              "      <td>106670</td>\n",
              "      <td>A1L1D50VH2AX7J</td>\n",
              "      <td>B0017UFWMS</td>\n",
              "      <td>Anjoyla</td>\n",
              "      <td>[0, 0]</td>\n",
              "      <td>this game gives you a series of word puzzles t...</td>\n",
              "      <td>2</td>\n",
              "      <td>Margots Word Brain</td>\n",
              "      <td>1321833600</td>\n",
              "      <td>11 21, 2011</td>\n",
              "      <td>[game, gives, series, word, puzzles, figure, b...</td>\n",
              "      <td>[game, give, series, word, puzzle, figure, bou...</td>\n",
              "    </tr>\n",
              "    <tr>\n",
              "      <th>2</th>\n",
              "      <td>198</td>\n",
              "      <td>24455</td>\n",
              "      <td>A2JWU211CM0BYE</td>\n",
              "      <td>B00005RCR0</td>\n",
              "      <td>DCN2049</td>\n",
              "      <td>[0, 1]</td>\n",
              "      <td>you should pretty much already know what this ...</td>\n",
              "      <td>4</td>\n",
              "      <td>Excellent product, watch the discs</td>\n",
              "      <td>1360540800</td>\n",
              "      <td>02 11, 2013</td>\n",
              "      <td>[pretty, much, already, know, game, youre, rea...</td>\n",
              "      <td>[pretty, much, already, know, game, youre, rea...</td>\n",
              "    </tr>\n",
              "    <tr>\n",
              "      <th>3</th>\n",
              "      <td>6070</td>\n",
              "      <td>42574</td>\n",
              "      <td>A1DP3YZ2OQWAP4</td>\n",
              "      <td>B0000ARQMW</td>\n",
              "      <td>liz</td>\n",
              "      <td>[0, 0]</td>\n",
              "      <td>i really like this game i love all the challen...</td>\n",
              "      <td>5</td>\n",
              "      <td>Jammin banging game</td>\n",
              "      <td>1383436800</td>\n",
              "      <td>11 3, 2013</td>\n",
              "      <td>[really, like, game, love, challenges, love, d...</td>\n",
              "      <td>[really, like, game, love, challenge, love, di...</td>\n",
              "    </tr>\n",
              "    <tr>\n",
              "      <th>4</th>\n",
              "      <td>11616</td>\n",
              "      <td>172598</td>\n",
              "      <td>A48Z207T98FN0</td>\n",
              "      <td>B004HYK8Y8</td>\n",
              "      <td>The Reverend</td>\n",
              "      <td>[296, 368]</td>\n",
              "      <td>please read the 12911 update below this artic...</td>\n",
              "      <td>1</td>\n",
              "      <td>Consumers are NOT Beta-Testers !!! (updated)</td>\n",
              "      <td>1322784000</td>\n",
              "      <td>12 2, 2011</td>\n",
              "      <td>[please, read, 12911, update, article, ps3, us...</td>\n",
              "      <td>[please, read, 12911, update, article, ps3, us...</td>\n",
              "    </tr>\n",
              "  </tbody>\n",
              "</table>\n",
              "</div>"
            ],
            "text/plain": [
              "   level_0   index      reviewerID        asin  reviewerName     helpful  \\\n",
              "0     9604  222941  A1U1AK7HKB2BLN  B00CX6XKK6        jayfer     [4, 51]   \n",
              "1     5428  106670  A1L1D50VH2AX7J  B0017UFWMS       Anjoyla      [0, 0]   \n",
              "2      198   24455  A2JWU211CM0BYE  B00005RCR0       DCN2049      [0, 1]   \n",
              "3     6070   42574  A1DP3YZ2OQWAP4  B0000ARQMW           liz      [0, 0]   \n",
              "4    11616  172598   A48Z207T98FN0  B004HYK8Y8  The Reverend  [296, 368]   \n",
              "\n",
              "                                          reviewText  overall  \\\n",
              "0  ive got to play this on both consoles now and ...        1   \n",
              "1  this game gives you a series of word puzzles t...        2   \n",
              "2  you should pretty much already know what this ...        4   \n",
              "3  i really like this game i love all the challen...        5   \n",
              "4   please read the 12911 update below this artic...        1   \n",
              "\n",
              "                                        summary  unixReviewTime   reviewTime  \\\n",
              "0           wasted 500 dollars on the xbox one.      1385078400  11 22, 2013   \n",
              "1                            Margots Word Brain      1321833600  11 21, 2011   \n",
              "2            Excellent product, watch the discs      1360540800  02 11, 2013   \n",
              "3                           Jammin banging game      1383436800   11 3, 2013   \n",
              "4  Consumers are NOT Beta-Testers !!! (updated)      1322784000   12 2, 2011   \n",
              "\n",
              "                                              tokens  \\\n",
              "0  [ive, got, play, consoles, honestly, say, look...   \n",
              "1  [game, gives, series, word, puzzles, figure, b...   \n",
              "2  [pretty, much, already, know, game, youre, rea...   \n",
              "3  [really, like, game, love, challenges, love, d...   \n",
              "4  [please, read, 12911, update, article, ps3, us...   \n",
              "\n",
              "                                              lemmas  \n",
              "0  [ive, got, play, console, honestly, say, look,...  \n",
              "1  [game, give, series, word, puzzle, figure, bou...  \n",
              "2  [pretty, much, already, know, game, youre, rea...  \n",
              "3  [really, like, game, love, challenge, love, di...  \n",
              "4  [please, read, 12911, update, article, ps3, us...  "
            ]
          },
          "execution_count": 47,
          "metadata": {},
          "output_type": "execute_result"
        }
      ],
      "source": [
        "df_train.head()"
      ]
    },
    {
      "cell_type": "markdown",
      "metadata": {},
      "source": [
        "#### df_test"
      ]
    },
    {
      "cell_type": "code",
      "execution_count": 48,
      "metadata": {
        "id": "i_P1ol9lZvc6"
      },
      "outputs": [],
      "source": [
        "df_test['lemmas'] = df_test['tokens'].apply(lemmatize_text)"
      ]
    },
    {
      "cell_type": "code",
      "execution_count": 49,
      "metadata": {
        "colab": {
          "base_uri": "https://localhost:8080/",
          "height": 722
        },
        "id": "L63zt-0681H6",
        "outputId": "0bf03d1c-cad7-41cf-87bf-bd7ab3476281"
      },
      "outputs": [
        {
          "data": {
            "text/html": [
              "<div>\n",
              "<style scoped>\n",
              "    .dataframe tbody tr th:only-of-type {\n",
              "        vertical-align: middle;\n",
              "    }\n",
              "\n",
              "    .dataframe tbody tr th {\n",
              "        vertical-align: top;\n",
              "    }\n",
              "\n",
              "    .dataframe thead th {\n",
              "        text-align: right;\n",
              "    }\n",
              "</style>\n",
              "<table border=\"1\" class=\"dataframe\">\n",
              "  <thead>\n",
              "    <tr style=\"text-align: right;\">\n",
              "      <th></th>\n",
              "      <th>level_0</th>\n",
              "      <th>index</th>\n",
              "      <th>reviewerID</th>\n",
              "      <th>asin</th>\n",
              "      <th>reviewerName</th>\n",
              "      <th>helpful</th>\n",
              "      <th>reviewText</th>\n",
              "      <th>overall</th>\n",
              "      <th>summary</th>\n",
              "      <th>unixReviewTime</th>\n",
              "      <th>reviewTime</th>\n",
              "      <th>tokens</th>\n",
              "      <th>lemmas</th>\n",
              "    </tr>\n",
              "  </thead>\n",
              "  <tbody>\n",
              "    <tr>\n",
              "      <th>0</th>\n",
              "      <td>12154</td>\n",
              "      <td>25980</td>\n",
              "      <td>A16416X67B4ZKJ</td>\n",
              "      <td>B00005V6BB</td>\n",
              "      <td>\"mcfly70\"</td>\n",
              "      <td>[1, 1]</td>\n",
              "      <td>moh was good and all but when you reach the co...</td>\n",
              "      <td>4</td>\n",
              "      <td>MOH: THE ACTUAL WAR WAS BETTER THE 3RD MCFLY R...</td>\n",
              "      <td>1035158400</td>\n",
              "      <td>10 21, 2002</td>\n",
              "      <td>[moh, good, reach, couple, last, levels, there...</td>\n",
              "      <td>[moh, good, reach, couple, last, level, therel...</td>\n",
              "    </tr>\n",
              "    <tr>\n",
              "      <th>1</th>\n",
              "      <td>7333</td>\n",
              "      <td>215010</td>\n",
              "      <td>A2Q2ADX9C9I5WZ</td>\n",
              "      <td>B00AZWE7ES</td>\n",
              "      <td>MCRC</td>\n",
              "      <td>[0, 4]</td>\n",
              "      <td>i am so glad i only paid 15 for this game duri...</td>\n",
              "      <td>2</td>\n",
              "      <td>15 fps? really?</td>\n",
              "      <td>1399334400</td>\n",
              "      <td>05 6, 2014</td>\n",
              "      <td>[glad, paid, 15, game, sonys, golden, week, sa...</td>\n",
              "      <td>[glad, paid, 15, game, sonys, golden, week, sa...</td>\n",
              "    </tr>\n",
              "    <tr>\n",
              "      <th>2</th>\n",
              "      <td>6703</td>\n",
              "      <td>188851</td>\n",
              "      <td>A30IXQWBRD3GU9</td>\n",
              "      <td>B0053BCO00</td>\n",
              "      <td>Jerry</td>\n",
              "      <td>[0, 0]</td>\n",
              "      <td>forget this mario kart get mario kart ds or th...</td>\n",
              "      <td>3</td>\n",
              "      <td>ehhhh</td>\n",
              "      <td>1373414400</td>\n",
              "      <td>07 10, 2013</td>\n",
              "      <td>[forget, mario, kart, get, mario, kart, ds, on...</td>\n",
              "      <td>[forget, mario, kart, get, mario, kart, d, one...</td>\n",
              "    </tr>\n",
              "    <tr>\n",
              "      <th>3</th>\n",
              "      <td>5649</td>\n",
              "      <td>93541</td>\n",
              "      <td>A1S7NYZF69KYAP</td>\n",
              "      <td>B000VRCNLG</td>\n",
              "      <td>Peanut Pedro</td>\n",
              "      <td>[0, 1]</td>\n",
              "      <td>when i purchased this game from amazon i certa...</td>\n",
              "      <td>1</td>\n",
              "      <td>Defective Disk/Great Seller</td>\n",
              "      <td>1348963200</td>\n",
              "      <td>09 30, 2012</td>\n",
              "      <td>[purchased, game, amazon, certainly, looked, f...</td>\n",
              "      <td>[purchased, game, amazon, certainly, looked, f...</td>\n",
              "    </tr>\n",
              "    <tr>\n",
              "      <th>4</th>\n",
              "      <td>2955</td>\n",
              "      <td>24169</td>\n",
              "      <td>A2MPAOYEC1KWEI</td>\n",
              "      <td>B00005R5PO</td>\n",
              "      <td>Mali</td>\n",
              "      <td>[0, 0]</td>\n",
              "      <td>i love platform games but not many are out the...</td>\n",
              "      <td>4</td>\n",
              "      <td>It's not Spyro...</td>\n",
              "      <td>1073260800</td>\n",
              "      <td>01 5, 2004</td>\n",
              "      <td>[love, platform, games, many, tried, crash, ba...</td>\n",
              "      <td>[love, platform, game, many, tried, crash, ban...</td>\n",
              "    </tr>\n",
              "  </tbody>\n",
              "</table>\n",
              "</div>"
            ],
            "text/plain": [
              "   level_0   index      reviewerID        asin  reviewerName helpful  \\\n",
              "0    12154   25980  A16416X67B4ZKJ  B00005V6BB     \"mcfly70\"  [1, 1]   \n",
              "1     7333  215010  A2Q2ADX9C9I5WZ  B00AZWE7ES          MCRC  [0, 4]   \n",
              "2     6703  188851  A30IXQWBRD3GU9  B0053BCO00         Jerry  [0, 0]   \n",
              "3     5649   93541  A1S7NYZF69KYAP  B000VRCNLG  Peanut Pedro  [0, 1]   \n",
              "4     2955   24169  A2MPAOYEC1KWEI  B00005R5PO          Mali  [0, 0]   \n",
              "\n",
              "                                          reviewText  overall  \\\n",
              "0  moh was good and all but when you reach the co...        4   \n",
              "1  i am so glad i only paid 15 for this game duri...        2   \n",
              "2  forget this mario kart get mario kart ds or th...        3   \n",
              "3  when i purchased this game from amazon i certa...        1   \n",
              "4  i love platform games but not many are out the...        4   \n",
              "\n",
              "                                             summary  unixReviewTime  \\\n",
              "0  MOH: THE ACTUAL WAR WAS BETTER THE 3RD MCFLY R...      1035158400   \n",
              "1                                    15 fps? really?      1399334400   \n",
              "2                                              ehhhh      1373414400   \n",
              "3                        Defective Disk/Great Seller      1348963200   \n",
              "4                                  It's not Spyro...      1073260800   \n",
              "\n",
              "    reviewTime                                             tokens  \\\n",
              "0  10 21, 2002  [moh, good, reach, couple, last, levels, there...   \n",
              "1   05 6, 2014  [glad, paid, 15, game, sonys, golden, week, sa...   \n",
              "2  07 10, 2013  [forget, mario, kart, get, mario, kart, ds, on...   \n",
              "3  09 30, 2012  [purchased, game, amazon, certainly, looked, f...   \n",
              "4   01 5, 2004  [love, platform, games, many, tried, crash, ba...   \n",
              "\n",
              "                                              lemmas  \n",
              "0  [moh, good, reach, couple, last, level, therel...  \n",
              "1  [glad, paid, 15, game, sonys, golden, week, sa...  \n",
              "2  [forget, mario, kart, get, mario, kart, d, one...  \n",
              "3  [purchased, game, amazon, certainly, looked, f...  \n",
              "4  [love, platform, game, many, tried, crash, ban...  "
            ]
          },
          "execution_count": 49,
          "metadata": {},
          "output_type": "execute_result"
        }
      ],
      "source": [
        "df_test.head()"
      ]
    },
    {
      "cell_type": "markdown",
      "metadata": {},
      "source": [
        "#### df_dev"
      ]
    },
    {
      "cell_type": "code",
      "execution_count": 50,
      "metadata": {
        "id": "UGirOZ0p846Y"
      },
      "outputs": [],
      "source": [
        "df_dev['lemmas'] = df_dev['tokens'].apply(lemmatize_text)"
      ]
    },
    {
      "cell_type": "code",
      "execution_count": 51,
      "metadata": {
        "colab": {
          "base_uri": "https://localhost:8080/",
          "height": 704
        },
        "id": "0adYzl5_9AZa",
        "outputId": "08c1c4ee-67bd-4899-b5f8-661419bb6c6c"
      },
      "outputs": [
        {
          "data": {
            "text/html": [
              "<div>\n",
              "<style scoped>\n",
              "    .dataframe tbody tr th:only-of-type {\n",
              "        vertical-align: middle;\n",
              "    }\n",
              "\n",
              "    .dataframe tbody tr th {\n",
              "        vertical-align: top;\n",
              "    }\n",
              "\n",
              "    .dataframe thead th {\n",
              "        text-align: right;\n",
              "    }\n",
              "</style>\n",
              "<table border=\"1\" class=\"dataframe\">\n",
              "  <thead>\n",
              "    <tr style=\"text-align: right;\">\n",
              "      <th></th>\n",
              "      <th>level_0</th>\n",
              "      <th>index</th>\n",
              "      <th>reviewerID</th>\n",
              "      <th>asin</th>\n",
              "      <th>reviewerName</th>\n",
              "      <th>helpful</th>\n",
              "      <th>reviewText</th>\n",
              "      <th>overall</th>\n",
              "      <th>summary</th>\n",
              "      <th>unixReviewTime</th>\n",
              "      <th>reviewTime</th>\n",
              "      <th>tokens</th>\n",
              "      <th>lemmas</th>\n",
              "    </tr>\n",
              "  </thead>\n",
              "  <tbody>\n",
              "    <tr>\n",
              "      <th>0</th>\n",
              "      <td>11509</td>\n",
              "      <td>4196</td>\n",
              "      <td>A2TCG2HV1VJP6V</td>\n",
              "      <td>B000021Y32</td>\n",
              "      <td>Ryan Sil. (Creator of Dynamite Alex for Andro...</td>\n",
              "      <td>[0, 0]</td>\n",
              "      <td>to start off this review let me tell you that ...</td>\n",
              "      <td>2</td>\n",
              "      <td>Strangely like its sequel</td>\n",
              "      <td>1299369600</td>\n",
              "      <td>03 6, 2011</td>\n",
              "      <td>[start, review, let, tell, bought, mortal, kom...</td>\n",
              "      <td>[start, review, let, tell, bought, mortal, kom...</td>\n",
              "    </tr>\n",
              "    <tr>\n",
              "      <th>1</th>\n",
              "      <td>1571</td>\n",
              "      <td>147673</td>\n",
              "      <td>A2WVCV1NFR0R07</td>\n",
              "      <td>B002WDL51Q</td>\n",
              "      <td>charles</td>\n",
              "      <td>[0, 0]</td>\n",
              "      <td>iron man 2 on nintendo wii is really fantastic...</td>\n",
              "      <td>5</td>\n",
              "      <td>Wow!</td>\n",
              "      <td>1374105600</td>\n",
              "      <td>07 18, 2013</td>\n",
              "      <td>[iron, man, 2, nintendo, wii, really, fantasti...</td>\n",
              "      <td>[iron, man, 2, nintendo, wii, really, fantasti...</td>\n",
              "    </tr>\n",
              "    <tr>\n",
              "      <th>2</th>\n",
              "      <td>2619</td>\n",
              "      <td>59077</td>\n",
              "      <td>A22Y1BUB20E150</td>\n",
              "      <td>B0009Z3IV4</td>\n",
              "      <td>Adam B</td>\n",
              "      <td>[0, 0]</td>\n",
              "      <td>first off this game is very addicting and so m...</td>\n",
              "      <td>4</td>\n",
              "      <td>WOW!!!</td>\n",
              "      <td>1147651200</td>\n",
              "      <td>05 15, 2006</td>\n",
              "      <td>[first, game, addicting, much, fun, prince, pe...</td>\n",
              "      <td>[first, game, addicting, much, fun, prince, pe...</td>\n",
              "    </tr>\n",
              "    <tr>\n",
              "      <th>3</th>\n",
              "      <td>4790</td>\n",
              "      <td>38437</td>\n",
              "      <td>A22BFGHM9X80OE</td>\n",
              "      <td>B000095ZH5</td>\n",
              "      <td>Bill.B \"Bill\"</td>\n",
              "      <td>[0, 0]</td>\n",
              "      <td>this is seriously the best simpsons game ever ...</td>\n",
              "      <td>4</td>\n",
              "      <td>BEST SIMPSONS GAME EVER!</td>\n",
              "      <td>1091577600</td>\n",
              "      <td>08 4, 2004</td>\n",
              "      <td>[seriously, best, simpsons, game, ever, ive, p...</td>\n",
              "      <td>[seriously, best, simpson, game, ever, ive, pl...</td>\n",
              "    </tr>\n",
              "    <tr>\n",
              "      <th>4</th>\n",
              "      <td>8413</td>\n",
              "      <td>82180</td>\n",
              "      <td>A323T7DISVMHPZ</td>\n",
              "      <td>B000O5FULU</td>\n",
              "      <td>Austin Anderson</td>\n",
              "      <td>[33, 38]</td>\n",
              "      <td>blacksite has a great story a very current wor...</td>\n",
              "      <td>2</td>\n",
              "      <td>This is why Area 51 is kept secret</td>\n",
              "      <td>1198108800</td>\n",
              "      <td>12 20, 2007</td>\n",
              "      <td>[blacksite, great, story, current, world, cour...</td>\n",
              "      <td>[blacksite, great, story, current, world, cour...</td>\n",
              "    </tr>\n",
              "  </tbody>\n",
              "</table>\n",
              "</div>"
            ],
            "text/plain": [
              "   level_0   index      reviewerID        asin  \\\n",
              "0    11509    4196  A2TCG2HV1VJP6V  B000021Y32   \n",
              "1     1571  147673  A2WVCV1NFR0R07  B002WDL51Q   \n",
              "2     2619   59077  A22Y1BUB20E150  B0009Z3IV4   \n",
              "3     4790   38437  A22BFGHM9X80OE  B000095ZH5   \n",
              "4     8413   82180  A323T7DISVMHPZ  B000O5FULU   \n",
              "\n",
              "                                       reviewerName   helpful  \\\n",
              "0  Ryan Sil. (Creator of Dynamite Alex for Andro...    [0, 0]   \n",
              "1                                           charles    [0, 0]   \n",
              "2                                            Adam B    [0, 0]   \n",
              "3                                     Bill.B \"Bill\"    [0, 0]   \n",
              "4                                   Austin Anderson  [33, 38]   \n",
              "\n",
              "                                          reviewText  overall  \\\n",
              "0  to start off this review let me tell you that ...        2   \n",
              "1  iron man 2 on nintendo wii is really fantastic...        5   \n",
              "2  first off this game is very addicting and so m...        4   \n",
              "3  this is seriously the best simpsons game ever ...        4   \n",
              "4  blacksite has a great story a very current wor...        2   \n",
              "\n",
              "                              summary  unixReviewTime   reviewTime  \\\n",
              "0           Strangely like its sequel      1299369600   03 6, 2011   \n",
              "1                                Wow!      1374105600  07 18, 2013   \n",
              "2                              WOW!!!      1147651200  05 15, 2006   \n",
              "3            BEST SIMPSONS GAME EVER!      1091577600   08 4, 2004   \n",
              "4  This is why Area 51 is kept secret      1198108800  12 20, 2007   \n",
              "\n",
              "                                              tokens  \\\n",
              "0  [start, review, let, tell, bought, mortal, kom...   \n",
              "1  [iron, man, 2, nintendo, wii, really, fantasti...   \n",
              "2  [first, game, addicting, much, fun, prince, pe...   \n",
              "3  [seriously, best, simpsons, game, ever, ive, p...   \n",
              "4  [blacksite, great, story, current, world, cour...   \n",
              "\n",
              "                                              lemmas  \n",
              "0  [start, review, let, tell, bought, mortal, kom...  \n",
              "1  [iron, man, 2, nintendo, wii, really, fantasti...  \n",
              "2  [first, game, addicting, much, fun, prince, pe...  \n",
              "3  [seriously, best, simpson, game, ever, ive, pl...  \n",
              "4  [blacksite, great, story, current, world, cour...  "
            ]
          },
          "execution_count": 51,
          "metadata": {},
          "output_type": "execute_result"
        }
      ],
      "source": [
        "df_dev.head()"
      ]
    },
    {
      "cell_type": "markdown",
      "metadata": {
        "id": "OXZ3vtqF-34w"
      },
      "source": [
        "## **Parte 2 - Análise do corpus**"
      ]
    },
    {
      "cell_type": "markdown",
      "metadata": {},
      "source": [
        "A análise a seguir será realizada a partir do dataset de treino, uma vez que esse será utilizado posteriormente para treinar os modelos de predição."
      ]
    },
    {
      "cell_type": "code",
      "execution_count": 52,
      "metadata": {
        "id": "rZmqRgssH03I"
      },
      "outputs": [],
      "source": [
        "# criando dataframe para a análise\n",
        "\n",
        "data_analise = pd.DataFrame()\n",
        "\n",
        "data_analise['Score'] = df_train['overall']\n",
        "data_analise['Text'] = df_train['lemmas']"
      ]
    },
    {
      "cell_type": "markdown",
      "metadata": {
        "id": "F_eBrWcX3m1G"
      },
      "source": [
        "### Review Scores"
      ]
    },
    {
      "cell_type": "code",
      "execution_count": 53,
      "metadata": {
        "colab": {
          "base_uri": "https://localhost:8080/"
        },
        "id": "wtxQNWPo3oQB",
        "outputId": "28763aa0-4e27-4829-b117-a71f6dfd2e45"
      },
      "outputs": [
        {
          "data": {
            "text/plain": [
              "5    1632\n",
              "3    1608\n",
              "4    1606\n",
              "1    1591\n",
              "2    1562\n",
              "Name: Score, dtype: int64"
            ]
          },
          "execution_count": 53,
          "metadata": {},
          "output_type": "execute_result"
        }
      ],
      "source": [
        "data_analise['Score'].value_counts()"
      ]
    },
    {
      "cell_type": "markdown",
      "metadata": {
        "id": "-DWmfUcYVUid"
      },
      "source": [
        "Como o overall original apresenta 5 valores diferentes, classificaremos as reviews apenas como negativa (menor ou igual a 3) ou positiva (demais valores)."
      ]
    },
    {
      "cell_type": "code",
      "execution_count": 54,
      "metadata": {
        "id": "qOihEGxz3wWg"
      },
      "outputs": [],
      "source": [
        "# classificando as reviews\n",
        "\n",
        "labels = []\n",
        "\n",
        "for x in data_analise['Score']:\n",
        "  if x > 3:\n",
        "     labels.append(1)\n",
        "  else:\n",
        "    labels.append(0)\n",
        "\n",
        "data_analise['label'] = labels"
      ]
    },
    {
      "cell_type": "code",
      "execution_count": 55,
      "metadata": {
        "colab": {
          "base_uri": "https://localhost:8080/",
          "height": 443
        },
        "id": "VkQKg5z13w_R",
        "outputId": "40cd19aa-b73c-4c19-eb40-352985d7e03e"
      },
      "outputs": [
        {
          "name": "stderr",
          "output_type": "stream",
          "text": [
            "C:\\Users\\isaca\\AppData\\Local\\Programs\\Python\\Python39\\lib\\site-packages\\seaborn\\_decorators.py:36: FutureWarning: Pass the following variable as a keyword arg: x. From version 0.12, the only valid positional argument will be `data`, and passing other arguments without an explicit keyword will result in an error or misinterpretation.\n",
            "  warnings.warn(\n"
          ]
        },
        {
          "data": {
            "image/png": "[encoded data removed]",
            "text/plain": [
              "<Figure size 576x432 with 1 Axes>"
            ]
          },
          "metadata": {
            "needs_background": "light"
          },
          "output_type": "display_data"
        }
      ],
      "source": [
        "plt.figure(figsize=(8,6))\n",
        "sns.countplot(data_analise['label'], palette=\"rocket\")\n",
        "plt.show()"
      ]
    },
    {
      "cell_type": "markdown",
      "metadata": {
        "id": "JPH3dE3eV5po"
      },
      "source": [
        "Dessa forma, é possível observar que existem mais reviews negativas em comparação à reviews positivas."
      ]
    },
    {
      "cell_type": "markdown",
      "metadata": {
        "id": "ys4SzYqlW6eS"
      },
      "source": [
        "### Frequência Lexical"
      ]
    },
    {
      "cell_type": "code",
      "execution_count": 56,
      "metadata": {
        "id": "xO99osX9XOax"
      },
      "outputs": [],
      "source": [
        "from nltk.probability import FreqDist"
      ]
    },
    {
      "cell_type": "code",
      "execution_count": 57,
      "metadata": {
        "id": "WFDJ-vArXwfA"
      },
      "outputs": [],
      "source": [
        "def string(list):\n",
        "  final_text = ''\n",
        "  for word in list:\n",
        "    final_text = final_text + ' ' + word\n",
        "  return final_text[1:]"
      ]
    },
    {
      "cell_type": "code",
      "execution_count": 58,
      "metadata": {
        "id": "qVZzoSDbXpL8"
      },
      "outputs": [],
      "source": [
        "words_review = data_analise['Text'].apply(string)"
      ]
    },
    {
      "cell_type": "code",
      "execution_count": 59,
      "metadata": {
        "id": "zu_5Knqd_8cr"
      },
      "outputs": [],
      "source": [
        "lista_palavras = []\n",
        "\n",
        "for string in data_analise['Text']:\n",
        "  for word in string:\n",
        "    lista_palavras.append(word)"
      ]
    },
    {
      "cell_type": "code",
      "execution_count": 60,
      "metadata": {
        "colab": {
          "base_uri": "https://localhost:8080/",
          "height": 388
        },
        "id": "92dDEiPxXrTz",
        "outputId": "0bcae4bb-2385-474f-b7e2-134d3b2ec2ae"
      },
      "outputs": [
        {
          "data": {
            "image/png": "[encoded data removed]",
            "text/plain": [
              "<Figure size 720x360 with 1 Axes>"
            ]
          },
          "metadata": {
            "needs_background": "light"
          },
          "output_type": "display_data"
        },
        {
          "data": {
            "text/plain": [
              "<AxesSubplot:title={'center':'Palavras x Frequência'}, xlabel='Samples', ylabel='Counts'>"
            ]
          },
          "execution_count": 60,
          "metadata": {},
          "output_type": "execute_result"
        }
      ],
      "source": [
        "plt.figure(figsize=(10,5))\n",
        "fd = nltk.FreqDist(lista_palavras)\n",
        "fd.plot(30,title = \"Palavras x Frequência\",cumulative=False, color= \"deeppink\")"
      ]
    },
    {
      "cell_type": "markdown",
      "metadata": {},
      "source": [
        "Naturalmente, a palavra que aparece em disparada com mais frequência nas avaliações de jogos é \"game\". Em segundo lugar, temos a palavra \"like\", que pode ser usada não somente como a ação de gostar de algo, mas também como uma conjunção no inglês, o que explicaria sua alta ocorrência em relação às demais palavras que seguem quase a mesma faixa de ocorrência. Também se destacam outros adjetivos como \"good\", \"fun\", \"great\", mas é proveitoso enfatizar a frequência da negação \"don't\", fato que pode alterar o sentido positivo de alguns lexemas apontados."
      ]
    },
    {
      "cell_type": "markdown",
      "metadata": {
        "id": "tXN9znt3HrhZ"
      },
      "source": [
        "### Frequência de termos (bigramas)"
      ]
    },
    {
      "cell_type": "code",
      "execution_count": 61,
      "metadata": {
        "id": "VxSh163NH6Is"
      },
      "outputs": [],
      "source": [
        "from nltk import bigrams"
      ]
    },
    {
      "cell_type": "code",
      "execution_count": 62,
      "metadata": {},
      "outputs": [
        {
          "data": {
            "text/plain": [
              "0       [ive, got, play, console, honestly, say, look,...\n",
              "1       [game, give, series, word, puzzle, figure, bou...\n",
              "2       [pretty, much, already, know, game, youre, rea...\n",
              "3       [really, like, game, love, challenge, love, di...\n",
              "4       [please, read, 12911, update, article, ps3, us...\n",
              "                              ...                        \n",
              "7995    [arrived, mail, promptly, working, great, far,...\n",
              "7996    [game, perfect, example, style, substancethe, ...\n",
              "7997    [let, tell, start, im, big, yugioh, fan, dont,...\n",
              "7998    [2400, new, game, delivers, bought, game, sole...\n",
              "7999    [fun, game, graphic, sound, spot, gameplay, sm...\n",
              "Name: Text, Length: 7999, dtype: object"
            ]
          },
          "execution_count": 62,
          "metadata": {},
          "output_type": "execute_result"
        }
      ],
      "source": [
        "data_analise['Text']"
      ]
    },
    {
      "cell_type": "code",
      "execution_count": 63,
      "metadata": {},
      "outputs": [],
      "source": [
        "bigramas = []\n",
        "\n",
        "for i in data_analise.index:\n",
        "    if len(data_analise['Text'][i]) > 2:\n",
        "        bigramas.append([item for item in bigrams(data_analise['Text'][i])])\n",
        "    else:\n",
        "        bigramas.append([])"
      ]
    },
    {
      "cell_type": "code",
      "execution_count": 64,
      "metadata": {},
      "outputs": [],
      "source": [
        "bigrams_list = []\n",
        "for sentence in bigramas:\n",
        "  for bigrama in sentence:\n",
        "    bigrams_list.append(bigrama)"
      ]
    },
    {
      "cell_type": "code",
      "execution_count": 65,
      "metadata": {},
      "outputs": [
        {
          "data": {
            "image/png": "[encoded data removed]",
            "text/plain": [
              "<Figure size 720x360 with 1 Axes>"
            ]
          },
          "metadata": {
            "needs_background": "light"
          },
          "output_type": "display_data"
        },
        {
          "data": {
            "text/plain": [
              "<AxesSubplot:title={'center':'Frequência de Bigramas'}, xlabel='Samples', ylabel='Counts'>"
            ]
          },
          "execution_count": 65,
          "metadata": {},
          "output_type": "execute_result"
        }
      ],
      "source": [
        "plt.figure(figsize=(10,5))\n",
        "fd = nltk.FreqDist(bigrams_list)\n",
        "fd.plot(30,title = \"Frequência de Bigramas\",cumulative=False, color= \"deeppink\")"
      ]
    },
    {
      "cell_type": "markdown",
      "metadata": {},
      "source": [
        "Analisando os bigramas, é possível perceber que as maiores frequências são das palavras que aparecem normalmente aparecem juntas no contexto das avaliações, como \"game play\", \"video game\" ou \"single player\", além de nomes compostos como \"xbox 360\" e \"final fantasy\". Outros elementos que são frequentemente combinados são expressões que poderão indicar os sentimentos e as opiniões, positivos ou negativos, da pessoa que escreveu a avaliação, por exemplo \"feel like\", \"don't know\" ou \"pretty much\"."
      ]
    },
    {
      "cell_type": "markdown",
      "metadata": {
        "id": "wWQH6QugYsoO"
      },
      "source": [
        "### Relação do tamanho das reviews"
      ]
    },
    {
      "cell_type": "code",
      "execution_count": 66,
      "metadata": {
        "id": "W84l3uT3IYa6"
      },
      "outputs": [],
      "source": [
        "# nova coluna para a quantidade de caracteres de cada review\n",
        "\n",
        "data_analise['Length'] = data_analise['Text'].apply(len)"
      ]
    },
    {
      "cell_type": "code",
      "execution_count": 67,
      "metadata": {},
      "outputs": [
        {
          "data": {
            "image/png": "[encoded data removed]",
            "text/plain": [
              "<Figure size 576x432 with 1 Axes>"
            ]
          },
          "metadata": {
            "needs_background": "light"
          },
          "output_type": "display_data"
        }
      ],
      "source": [
        "plt.figure(figsize=(8,6))\n",
        "sns.stripplot(x=\"label\", y=\"Length\", data= data_analise, palette=\"rocket\")\n",
        "plt.title('Comprimento da review X Sentimento da review', fontsize = 12)\n",
        "plt.ylabel('Nº de caracteres', fontsize = 12)\n",
        "plt.xlabel('Sentimento da review', fontsize = 12)\n",
        "plt.show()"
      ]
    },
    {
      "cell_type": "markdown",
      "metadata": {},
      "source": [
        "Embora existam outliers, independente do sentimento, as reviews no geral possuem uma média bem parecida de número de caracteres. Também é possível notar que geralmente os textos das avaliações são mais dinâmicos, concentrados abaixo de 500 caracteres. Apesar disso, é perceptível que os maiores textos são de avaliadores descontentes com o jogo, ou seja, as avaliações negativas usaram mais caracteres."
      ]
    },
    {
      "cell_type": "code",
      "execution_count": 68,
      "metadata": {
        "colab": {
          "base_uri": "https://localhost:8080/",
          "height": 407
        },
        "id": "gxE3_dnrPquq",
        "outputId": "d700b48e-50fb-4cfc-94b8-88e2edd497a1"
      },
      "outputs": [
        {
          "data": {
            "image/png": "[encoded data removed]",
            "text/plain": [
              "<Figure size 576x432 with 1 Axes>"
            ]
          },
          "metadata": {
            "needs_background": "light"
          },
          "output_type": "display_data"
        }
      ],
      "source": [
        "plt.figure(figsize=(8,6))\n",
        "sns.barplot(x=\"Score\", y=\"Length\", data= data_analise, palette=\"rocket\")\n",
        "plt.title('Comprimento da review X Nota do produto', fontsize = 12)\n",
        "plt.ylabel('Nº de caracteres', fontsize = 12)\n",
        "plt.xlabel('Nota do produto', fontsize = 12)\n",
        "plt.show()"
      ]
    },
    {
      "cell_type": "markdown",
      "metadata": {},
      "source": [
        "Ao relacionar a nota do produto com o número de caracteres da avaliação, é perceptível que as reviews com nota máxima são as que apresentam menos caracteres. Porém, a nota 4, que é considerada uma boa avaliação, perde por pouco em número de caracteres apenas para a nota média, que seria 3, cujas reviews possuem mais caracteres em comparação às demais. Com isso, a nota mediana ser conferida às avaliações com mais caracteres pode ser justificado pelo fato de que como as pessoas não amam nem odeiam o jogo, a review tende a ser mais extensa, uma vez que o avaliador irá expor tanto os pontos positivos, como  os pontos negativos do produto. Além disso, a pior nota supera a maior nota em número de caracteres, naturalmente. "
      ]
    },
    {
      "cell_type": "markdown",
      "metadata": {
        "id": "35rZf9Ah3LLO"
      },
      "source": [
        "## **Parte 3 - Modelagem e feature engineering**"
      ]
    },
    {
      "cell_type": "markdown",
      "metadata": {
        "id": "a76L335DZ--k"
      },
      "source": [
        "Feature extraction: transformar o texto em uma informação numérica de modo que seja possível utilizá-lo para alimentar um modelo."
      ]
    },
    {
      "cell_type": "code",
      "execution_count": 69,
      "metadata": {
        "id": "AvnLrb6QD4xs"
      },
      "outputs": [],
      "source": [
        "# treino\n",
        "\n",
        "labels = []\n",
        "\n",
        "for x in df_train['overall']:\n",
        "  if x > 3:\n",
        "     labels.append(1)\n",
        "  else:\n",
        "    labels.append(0)\n",
        "\n",
        "df_train['label'] = labels"
      ]
    },
    {
      "cell_type": "code",
      "execution_count": 70,
      "metadata": {
        "id": "CFDdU8TiEaT-"
      },
      "outputs": [
        {
          "data": {
            "text/plain": [
              "0       0\n",
              "1       0\n",
              "2       1\n",
              "3       1\n",
              "4       0\n",
              "       ..\n",
              "7995    0\n",
              "7996    0\n",
              "7997    1\n",
              "7998    1\n",
              "7999    1\n",
              "Name: label, Length: 7999, dtype: int64"
            ]
          },
          "execution_count": 70,
          "metadata": {},
          "output_type": "execute_result"
        }
      ],
      "source": [
        "df_train['label']"
      ]
    },
    {
      "cell_type": "code",
      "execution_count": 71,
      "metadata": {
        "id": "PEhysOYkEQdv"
      },
      "outputs": [],
      "source": [
        "# teste\n",
        "\n",
        "labels = []\n",
        "\n",
        "for x in df_test['overall']:\n",
        "  if x > 3:\n",
        "     labels.append(1)\n",
        "  else:\n",
        "    labels.append(0)\n",
        "\n",
        "df_test['label'] = labels"
      ]
    },
    {
      "cell_type": "code",
      "execution_count": 72,
      "metadata": {
        "id": "x_IHL6Sz4Qj9"
      },
      "outputs": [
        {
          "data": {
            "text/plain": [
              "0       1\n",
              "1       0\n",
              "2       0\n",
              "3       0\n",
              "4       1\n",
              "       ..\n",
              "2495    0\n",
              "2496    0\n",
              "2497    1\n",
              "2498    1\n",
              "2499    0\n",
              "Name: label, Length: 2499, dtype: int64"
            ]
          },
          "execution_count": 72,
          "metadata": {},
          "output_type": "execute_result"
        }
      ],
      "source": [
        "df_test['label']"
      ]
    },
    {
      "cell_type": "code",
      "execution_count": 73,
      "metadata": {
        "id": "TtsgaNpv3TvT"
      },
      "outputs": [],
      "source": [
        "# métricas para avaliação de cada modelo\n",
        "\n",
        "from sklearn.metrics import accuracy_score, confusion_matrix, f1_score, roc_auc_score\n",
        "\n",
        "def mostra_metricas(y_true, y_pred):\n",
        "  ''' Função que recebe o y real, o y predito e mostra as\n",
        "  principais metricas.\n",
        "  '''\n",
        "  print(\"Acurácia: \", accuracy_score(y_true, y_pred))\n",
        "  print(\"\\nAUROC:\", roc_auc_score(y_true, y_pred))\n",
        "  print(\"\\nF1-Score:\", f1_score(y_true, y_pred, average='weighted'))\n",
        "  print(\"\\nMatriz de confusão:\")\n",
        "  sns.heatmap(confusion_matrix(y_true, y_pred), annot=True)\n",
        "  plt.show()"
      ]
    },
    {
      "cell_type": "code",
      "execution_count": 74,
      "metadata": {
        "id": "CBbkbiqfPd9I"
      },
      "outputs": [],
      "source": [
        "# tranformar listas em strings\n",
        "\n",
        "def string(list):\n",
        "  final_text = ''\n",
        "  for word in list:\n",
        "    final_text = final_text + ' ' + word\n",
        "  return final_text[1:]"
      ]
    },
    {
      "cell_type": "markdown",
      "metadata": {
        "id": "sqM-DebUq6jA"
      },
      "source": [
        "### **Bag of Words (1)**"
      ]
    },
    {
      "cell_type": "code",
      "execution_count": 75,
      "metadata": {
        "id": "Tz98UKlQ4YSV"
      },
      "outputs": [],
      "source": [
        "from sklearn.feature_extraction.text import CountVectorizer"
      ]
    },
    {
      "cell_type": "code",
      "execution_count": 76,
      "metadata": {
        "id": "4DcSKTxL4dpY"
      },
      "outputs": [],
      "source": [
        "vectorizer = CountVectorizer(binary=True, max_features=500)"
      ]
    },
    {
      "cell_type": "code",
      "execution_count": 77,
      "metadata": {
        "id": "-_UxoXe74ZZ5"
      },
      "outputs": [],
      "source": [
        "text = df_train['lemmas'].apply(string)\n",
        "\n",
        "X_bow_train = vectorizer.fit_transform(text)"
      ]
    },
    {
      "cell_type": "code",
      "execution_count": 78,
      "metadata": {
        "id": "yTqQ5gbKEm9t"
      },
      "outputs": [],
      "source": [
        "text = df_test['lemmas'].apply(string)\n",
        "\n",
        "X_bow_test = vectorizer.transform(text)"
      ]
    },
    {
      "cell_type": "code",
      "execution_count": 79,
      "metadata": {
        "colab": {
          "base_uri": "https://localhost:8080/"
        },
        "id": "YXk7yZ8TeNx-",
        "outputId": "1b75f773-31b4-4aed-ae31-ad08b0c13687"
      },
      "outputs": [
        {
          "data": {
            "text/plain": [
              "array([[0, 0, 0, ..., 0, 0, 0],\n",
              "       [0, 0, 0, ..., 0, 0, 0],\n",
              "       [0, 0, 0, ..., 0, 1, 0],\n",
              "       ...,\n",
              "       [0, 0, 0, ..., 0, 0, 0],\n",
              "       [0, 0, 0, ..., 0, 0, 0],\n",
              "       [0, 1, 0, ..., 0, 0, 0]], dtype=int64)"
            ]
          },
          "execution_count": 79,
          "metadata": {},
          "output_type": "execute_result"
        }
      ],
      "source": [
        "X_bow_train.toarray()"
      ]
    },
    {
      "cell_type": "code",
      "execution_count": 80,
      "metadata": {
        "colab": {
          "base_uri": "https://localhost:8080/"
        },
        "id": "0j9k9CvCecIv",
        "outputId": "6156ac93-a6c9-49e8-cc69-4e8e9b354b5e"
      },
      "outputs": [
        {
          "data": {
            "text/plain": [
              "array([[0, 0, 0, ..., 0, 0, 0],\n",
              "       [0, 0, 0, ..., 0, 0, 0],\n",
              "       [0, 0, 0, ..., 0, 0, 0],\n",
              "       ...,\n",
              "       [0, 0, 0, ..., 0, 0, 0],\n",
              "       [0, 0, 0, ..., 0, 0, 0],\n",
              "       [0, 0, 0, ..., 0, 0, 0]], dtype=int64)"
            ]
          },
          "execution_count": 80,
          "metadata": {},
          "output_type": "execute_result"
        }
      ],
      "source": [
        "X_bow_test.toarray()"
      ]
    },
    {
      "cell_type": "code",
      "execution_count": 81,
      "metadata": {
        "id": "JXLDJe_KDlS1"
      },
      "outputs": [],
      "source": [
        "X1_train = X_bow_train\n",
        "y1_train = df_train['label']\n",
        "\n",
        "X1_test = X_bow_test\n",
        "y1_test = df_test['label']"
      ]
    },
    {
      "cell_type": "markdown",
      "metadata": {
        "id": "sRquP-2ki4qN"
      },
      "source": [
        "#### Regressão Logística"
      ]
    },
    {
      "cell_type": "code",
      "execution_count": 82,
      "metadata": {
        "colab": {
          "base_uri": "https://localhost:8080/"
        },
        "id": "uq4hutqWzycc",
        "outputId": "514e2c45-c059-4afb-d2d2-bd4345e5a8ea"
      },
      "outputs": [],
      "source": [
        "from sklearn.linear_model import LogisticRegression"
      ]
    },
    {
      "cell_type": "code",
      "execution_count": 83,
      "metadata": {
        "id": "kOZRmvea7EWh"
      },
      "outputs": [],
      "source": [
        "reglog1 = LogisticRegression()\n",
        "\n",
        "reglog1.fit(X1_train, y1_train)\n",
        "\n",
        "y1_reglog_pred = reglog1.predict(X1_test)"
      ]
    },
    {
      "cell_type": "code",
      "execution_count": 84,
      "metadata": {
        "colab": {
          "base_uri": "https://localhost:8080/",
          "height": 387
        },
        "id": "V4I47X0e7QT5",
        "outputId": "d621c058-7b9f-4c8b-da9c-201dada053cc"
      },
      "outputs": [
        {
          "name": "stdout",
          "output_type": "stream",
          "text": [
            "Acurácia:  0.7639055622248899\n",
            "\n",
            "AUROC: 0.748079196217494\n",
            "\n",
            "F1-Score: 0.762605241167469\n",
            "\n",
            "Matriz de confusão:\n"
          ]
        },
        {
          "data": {
            "image/png": "[encoded data removed]",
            "text/plain": [
              "<Figure size 432x288 with 2 Axes>"
            ]
          },
          "metadata": {
            "needs_background": "light"
          },
          "output_type": "display_data"
        }
      ],
      "source": [
        "mostra_metricas(y1_test, y1_reglog_pred)"
      ]
    },
    {
      "cell_type": "markdown",
      "metadata": {
        "id": "IbV-FV7ReVII"
      },
      "source": [
        "#### Gaussian Naive Bayes"
      ]
    },
    {
      "cell_type": "code",
      "execution_count": 85,
      "metadata": {
        "id": "bGnaWcdZeZ4X"
      },
      "outputs": [],
      "source": [
        "from sklearn.naive_bayes import GaussianNB"
      ]
    },
    {
      "cell_type": "code",
      "execution_count": 86,
      "metadata": {
        "id": "uAFwb4PpedHC"
      },
      "outputs": [],
      "source": [
        "modelNB1 = GaussianNB()\n",
        "\n",
        "modelNB1.fit(X1_train.toarray(), y1_train)\n",
        "\n",
        "y1_predict = modelNB1.predict(X1_test.toarray())"
      ]
    },
    {
      "cell_type": "code",
      "execution_count": 87,
      "metadata": {
        "colab": {
          "base_uri": "https://localhost:8080/",
          "height": 387
        },
        "id": "ewMPn3wf9HP3",
        "outputId": "f2bae67d-f961-4413-962a-40905257a9e4"
      },
      "outputs": [
        {
          "name": "stdout",
          "output_type": "stream",
          "text": [
            "Acurácia:  0.6650660264105642\n",
            "\n",
            "AUROC: 0.6866275469998875\n",
            "\n",
            "F1-Score: 0.6674183385571624\n",
            "\n",
            "Matriz de confusão:\n"
          ]
        },
        {
          "data": {
            "image/png": "[encoded data removed]",
            "text/plain": [
              "<Figure size 432x288 with 2 Axes>"
            ]
          },
          "metadata": {
            "needs_background": "light"
          },
          "output_type": "display_data"
        }
      ],
      "source": [
        "mostra_metricas(y1_test, y1_predict)"
      ]
    },
    {
      "cell_type": "markdown",
      "metadata": {
        "id": "EqL1fu4H72gG"
      },
      "source": [
        "#### Naive Bayes Multinomial"
      ]
    },
    {
      "cell_type": "code",
      "execution_count": 88,
      "metadata": {
        "id": "d8PVfICM77n8"
      },
      "outputs": [],
      "source": [
        "from sklearn.naive_bayes import MultinomialNB"
      ]
    },
    {
      "cell_type": "code",
      "execution_count": 89,
      "metadata": {
        "colab": {
          "base_uri": "https://localhost:8080/"
        },
        "id": "ZOL2Umi48CxH",
        "outputId": "36de8b65-fb82-44ed-e7d0-94218f3adece"
      },
      "outputs": [],
      "source": [
        "nbBOW = MultinomialNB()\n",
        "\n",
        "nbBOW.fit(X1_train.toarray(), y1_train)\n",
        "\n",
        "y1_nb_pred = nbBOW.predict(X1_test.toarray())"
      ]
    },
    {
      "cell_type": "code",
      "execution_count": 90,
      "metadata": {
        "colab": {
          "base_uri": "https://localhost:8080/",
          "height": 387
        },
        "id": "IzpQprL58Ueb",
        "outputId": "a6523935-0e18-4bf0-d171-4d79d8ebdb8e"
      },
      "outputs": [
        {
          "name": "stdout",
          "output_type": "stream",
          "text": [
            "Acurácia:  0.7611044417767107\n",
            "\n",
            "AUROC: 0.7478751547900484\n",
            "\n",
            "F1-Score: 0.7605516755381236\n",
            "\n",
            "Matriz de confusão:\n"
          ]
        },
        {
          "data": {
            "image/png": "[encoded data removed]",
            "text/plain": [
              "<Figure size 432x288 with 2 Axes>"
            ]
          },
          "metadata": {
            "needs_background": "light"
          },
          "output_type": "display_data"
        }
      ],
      "source": [
        "mostra_metricas(y1_test, y1_nb_pred)"
      ]
    },
    {
      "cell_type": "markdown",
      "metadata": {
        "id": "9BAdSDJWwzAR"
      },
      "source": [
        "### **TF-IDF (2)**"
      ]
    },
    {
      "cell_type": "code",
      "execution_count": 91,
      "metadata": {
        "id": "_IukXaiy4t9f"
      },
      "outputs": [],
      "source": [
        "from sklearn.feature_extraction.text import TfidfVectorizer"
      ]
    },
    {
      "cell_type": "code",
      "execution_count": 92,
      "metadata": {},
      "outputs": [],
      "source": [
        "tfidf_vect = TfidfVectorizer(max_features=500)"
      ]
    },
    {
      "cell_type": "code",
      "execution_count": 93,
      "metadata": {
        "id": "uQijx1964xA2"
      },
      "outputs": [],
      "source": [
        "text = df_train['lemmas'].apply(string)\n",
        "\n",
        "X_tfidf_train = tfidf_vect.fit_transform(text)"
      ]
    },
    {
      "cell_type": "code",
      "execution_count": 94,
      "metadata": {
        "id": "ZkXfrW4Rcwe0"
      },
      "outputs": [],
      "source": [
        "text = df_test['lemmas'].apply(string)\n",
        "\n",
        "X_tfidf_test = tfidf_vect.transform(text)"
      ]
    },
    {
      "cell_type": "code",
      "execution_count": 95,
      "metadata": {
        "colab": {
          "base_uri": "https://localhost:8080/"
        },
        "id": "MWhED_PgT2F1",
        "outputId": "bd5b8360-6c5d-485b-f360-9e39dd439e5d"
      },
      "outputs": [
        {
          "name": "stdout",
          "output_type": "stream",
          "text": [
            "  (0, 302)\t0.20168406184549045\n",
            "  (0, 492)\t0.3813355555868303\n",
            "  (0, 271)\t0.3950585991226947\n",
            "  (0, 46)\t0.2716223789367609\n",
            "  (0, 254)\t0.29152464342664397\n",
            "  (0, 371)\t0.29752063712093896\n",
            "  (0, 87)\t0.4087964015061448\n",
            "  (0, 324)\t0.20855019421012205\n",
            "  (0, 196)\t0.30247114721846036\n",
            "  (0, 227)\t0.3293252134831935\n",
            "  (1, 182)\t0.18080262093036112\n",
            "  (1, 327)\t0.20417526046212928\n",
            "  (1, 83)\t0.24363120013648654\n",
            "  (1, 395)\t0.3124081604070983\n",
            "  (1, 167)\t0.34045837831796133\n",
            "  (1, 64)\t0.2364208673181981\n",
            "  (1, 153)\t0.24782433755242803\n",
            "  (1, 52)\t0.2695140773951044\n",
            "  (1, 163)\t0.3555583098428201\n",
            "  (1, 344)\t0.3435051090320605\n",
            "  (1, 380)\t0.26902570037740137\n",
            "  (1, 191)\t0.24581171092234505\n",
            "  (1, 183)\t0.29255885651213837\n",
            "  (2, 396)\t0.2735784095608542\n",
            "  (2, 460)\t0.2906778628751821\n",
            "  :\t:\n",
            "  (7998, 238)\t0.13891978731381038\n",
            "  (7998, 192)\t0.1406648793373321\n",
            "  (7998, 477)\t0.08281642636584882\n",
            "  (7998, 193)\t0.0860819795141402\n",
            "  (7998, 257)\t0.08833527494490424\n",
            "  (7998, 213)\t0.1327995117711705\n",
            "  (7998, 75)\t0.08998468433715165\n",
            "  (7998, 437)\t0.08140672682519937\n",
            "  (7998, 389)\t0.11691999797146632\n",
            "  (7998, 226)\t0.5140395646356981\n",
            "  (7998, 265)\t0.18232285074300483\n",
            "  (7998, 415)\t0.10792360191202403\n",
            "  (7998, 230)\t0.11071958517530783\n",
            "  (7998, 442)\t0.06769069628195677\n",
            "  (7998, 310)\t0.11958660594559097\n",
            "  (7998, 197)\t0.07860889235399729\n",
            "  (7998, 250)\t0.09276471969562293\n",
            "  (7998, 184)\t0.09708576097536188\n",
            "  (7998, 170)\t0.07980560611681811\n",
            "  (7998, 189)\t0.18725094306329146\n",
            "  (7998, 110)\t0.10015661299457304\n",
            "  (7998, 182)\t0.1472486739027357\n",
            "  (7998, 167)\t0.13863749449103624\n",
            "  (7998, 183)\t0.1588432123319186\n",
            "  (7998, 302)\t0.06316354420988551\n"
          ]
        }
      ],
      "source": [
        "print(X_tfidf_train)"
      ]
    },
    {
      "cell_type": "code",
      "execution_count": 96,
      "metadata": {},
      "outputs": [
        {
          "data": {
            "text/plain": [
              "array([[0.        , 0.        , 0.        , ..., 0.        , 0.        ,\n",
              "        0.        ],\n",
              "       [0.        , 0.        , 0.        , ..., 0.        , 0.        ,\n",
              "        0.        ],\n",
              "       [0.        , 0.        , 0.        , ..., 0.55948904, 0.        ,\n",
              "        0.        ],\n",
              "       ...,\n",
              "       [0.        , 0.        , 0.        , ..., 0.        , 0.        ,\n",
              "        0.        ],\n",
              "       [0.        , 0.        , 0.        , ..., 0.        , 0.        ,\n",
              "        0.        ],\n",
              "       [0.        , 0.2738047 , 0.        , ..., 0.        , 0.        ,\n",
              "        0.        ]])"
            ]
          },
          "execution_count": 96,
          "metadata": {},
          "output_type": "execute_result"
        }
      ],
      "source": [
        "X_tfidf_train.toarray()"
      ]
    },
    {
      "cell_type": "code",
      "execution_count": 97,
      "metadata": {},
      "outputs": [
        {
          "data": {
            "text/plain": [
              "array([[0., 0., 0., ..., 0., 0., 0.],\n",
              "       [0., 0., 0., ..., 0., 0., 0.],\n",
              "       [0., 0., 0., ..., 0., 0., 0.],\n",
              "       ...,\n",
              "       [0., 0., 0., ..., 0., 0., 0.],\n",
              "       [0., 0., 0., ..., 0., 0., 0.],\n",
              "       [0., 0., 0., ..., 0., 0., 0.]])"
            ]
          },
          "execution_count": 97,
          "metadata": {},
          "output_type": "execute_result"
        }
      ],
      "source": [
        "X_tfidf_test.toarray()"
      ]
    },
    {
      "cell_type": "code",
      "execution_count": 98,
      "metadata": {},
      "outputs": [],
      "source": [
        "X2_train = X_tfidf_train\n",
        "y2_train = df_train['label']\n",
        "\n",
        "X2_test = X_tfidf_test\n",
        "y2_test = df_test['label']"
      ]
    },
    {
      "cell_type": "markdown",
      "metadata": {},
      "source": [
        "#### Regressão Logística"
      ]
    },
    {
      "cell_type": "code",
      "execution_count": 99,
      "metadata": {},
      "outputs": [],
      "source": [
        "reglog2 = LogisticRegression()\n",
        "\n",
        "reglog2.fit(X2_train, y2_train)\n",
        "\n",
        "y2_reglog_pred = reglog2.predict(X2_test)"
      ]
    },
    {
      "cell_type": "code",
      "execution_count": 100,
      "metadata": {},
      "outputs": [
        {
          "name": "stdout",
          "output_type": "stream",
          "text": [
            "Acurácia:  0.7707082833133253\n",
            "\n",
            "AUROC: 0.7514142181695374\n",
            "\n",
            "F1-Score: 0.7682892887414331\n",
            "\n",
            "Matriz de confusão:\n"
          ]
        },
        {
          "data": {
            "image/png": "[encoded data removed]",
            "text/plain": [
              "<Figure size 432x288 with 2 Axes>"
            ]
          },
          "metadata": {
            "needs_background": "light"
          },
          "output_type": "display_data"
        }
      ],
      "source": [
        "mostra_metricas(y2_test, y2_reglog_pred)"
      ]
    },
    {
      "cell_type": "markdown",
      "metadata": {},
      "source": [
        "#### Gaussian Naive Bayes"
      ]
    },
    {
      "cell_type": "code",
      "execution_count": 101,
      "metadata": {},
      "outputs": [],
      "source": [
        "modelNB2 = GaussianNB()\n",
        "\n",
        "modelNB2.fit(X2_train.toarray(), y2_train)\n",
        "\n",
        "y2_predict = modelNB2.predict(X2_test.toarray())"
      ]
    },
    {
      "cell_type": "code",
      "execution_count": 102,
      "metadata": {},
      "outputs": [
        {
          "name": "stdout",
          "output_type": "stream",
          "text": [
            "Acurácia:  0.7194877951180472\n",
            "\n",
            "AUROC: 0.7245651806822019\n",
            "\n",
            "F1-Score: 0.7224835294397548\n",
            "\n",
            "Matriz de confusão:\n"
          ]
        },
        {
          "data": {
            "image/png": "[encoded data removed]",
            "text/plain": [
              "<Figure size 432x288 with 2 Axes>"
            ]
          },
          "metadata": {
            "needs_background": "light"
          },
          "output_type": "display_data"
        }
      ],
      "source": [
        "mostra_metricas(y2_test, y2_predict)"
      ]
    },
    {
      "cell_type": "markdown",
      "metadata": {},
      "source": [
        "#### Naive Bayes Multinominal"
      ]
    },
    {
      "cell_type": "code",
      "execution_count": 103,
      "metadata": {},
      "outputs": [],
      "source": [
        "nbTFIDF = MultinomialNB()\n",
        "\n",
        "nbTFIDF.fit(X2_train.toarray(), y2_train)\n",
        "\n",
        "y2_nb_pred = nbTFIDF.predict(X2_test.toarray())"
      ]
    },
    {
      "cell_type": "code",
      "execution_count": 104,
      "metadata": {},
      "outputs": [
        {
          "name": "stdout",
          "output_type": "stream",
          "text": [
            "Acurácia:  0.7366946778711485\n",
            "\n",
            "AUROC: 0.6798590003377237\n",
            "\n",
            "F1-Score: 0.7100095673359318\n",
            "\n",
            "Matriz de confusão:\n"
          ]
        },
        {
          "data": {
            "image/png": "[encoded data removed]",
            "text/plain": [
              "<Figure size 432x288 with 2 Axes>"
            ]
          },
          "metadata": {
            "needs_background": "light"
          },
          "output_type": "display_data"
        }
      ],
      "source": [
        "mostra_metricas(y2_test, y2_nb_pred)"
      ]
    },
    {
      "cell_type": "markdown",
      "metadata": {},
      "source": [
        "### **Conclusões**"
      ]
    },
    {
      "cell_type": "markdown",
      "metadata": {},
      "source": [
        "O modelo de Regressão Logística foi o que mostrou o melhor desempenho comparado aos demais, especialmente com as palavras vetorizadas pelo TF-IDF, com 77% de acurácia. Por essa razão, esse modelo será otimizado com o objetivo de alcançar um desempenho ainda melhor."
      ]
    },
    {
      "cell_type": "markdown",
      "metadata": {},
      "source": [
        "### **Regressão Logística otimizada**"
      ]
    },
    {
      "cell_type": "code",
      "execution_count": 105,
      "metadata": {},
      "outputs": [],
      "source": [
        "text = df_dev['lemmas'].apply(string)\n",
        "\n",
        "X_tfidf_dev = tfidf_vect.fit_transform(text)"
      ]
    },
    {
      "cell_type": "code",
      "execution_count": 106,
      "metadata": {},
      "outputs": [],
      "source": [
        "labels = []\n",
        "\n",
        "for x in df_dev['overall']:\n",
        "  if x > 3:\n",
        "     labels.append(1)\n",
        "  else:\n",
        "    labels.append(0)\n",
        "\n",
        "df_dev['label'] = labels"
      ]
    },
    {
      "cell_type": "code",
      "execution_count": 107,
      "metadata": {},
      "outputs": [],
      "source": [
        "X_dev = X_tfidf_dev\n",
        "y_dev = df_dev['label']"
      ]
    },
    {
      "cell_type": "code",
      "execution_count": 108,
      "metadata": {},
      "outputs": [],
      "source": [
        "from sklearn.model_selection import GridSearchCV"
      ]
    },
    {
      "cell_type": "code",
      "execution_count": 109,
      "metadata": {},
      "outputs": [],
      "source": [
        "logreg_grid = {'C':  [0.001, 0.01, 0.1, 1, 10, 100, 1000]}"
      ]
    },
    {
      "cell_type": "code",
      "execution_count": 110,
      "metadata": {},
      "outputs": [],
      "source": [
        "logreg_GS = GridSearchCV(LogisticRegression(), logreg_grid, verbose = 2, scoring = 'accuracy')"
      ]
    },
    {
      "cell_type": "code",
      "execution_count": 111,
      "metadata": {},
      "outputs": [
        {
          "name": "stdout",
          "output_type": "stream",
          "text": [
            "Fitting 5 folds for each of 7 candidates, totalling 35 fits\n",
            "[CV] END ............................................C=0.001; total time=   0.0s\n",
            "[CV] END ............................................C=0.001; total time=   0.0s\n",
            "[CV] END ............................................C=0.001; total time=   0.0s\n",
            "[CV] END ............................................C=0.001; total time=   0.0s\n",
            "[CV] END ............................................C=0.001; total time=   0.0s\n",
            "[CV] END .............................................C=0.01; total time=   0.0s\n",
            "[CV] END .............................................C=0.01; total time=   0.0s\n",
            "[CV] END .............................................C=0.01; total time=   0.0s\n",
            "[CV] END .............................................C=0.01; total time=   0.0s\n",
            "[CV] END .............................................C=0.01; total time=   0.0s\n",
            "[CV] END ..............................................C=0.1; total time=   0.0s\n",
            "[CV] END ..............................................C=0.1; total time=   0.0s\n",
            "[CV] END ..............................................C=0.1; total time=   0.0s\n",
            "[CV] END ..............................................C=0.1; total time=   0.0s\n",
            "[CV] END ..............................................C=0.1; total time=   0.0s\n",
            "[CV] END ................................................C=1; total time=   0.0s\n",
            "[CV] END ................................................C=1; total time=   0.0s\n",
            "[CV] END ................................................C=1; total time=   0.0s\n",
            "[CV] END ................................................C=1; total time=   0.0s\n",
            "[CV] END ................................................C=1; total time=   0.0s\n",
            "[CV] END ...............................................C=10; total time=   0.0s\n",
            "[CV] END ...............................................C=10; total time=   0.0s\n",
            "[CV] END ...............................................C=10; total time=   0.0s\n",
            "[CV] END ...............................................C=10; total time=   0.0s\n",
            "[CV] END ...............................................C=10; total time=   0.0s\n",
            "[CV] END ..............................................C=100; total time=   0.0s\n",
            "[CV] END ..............................................C=100; total time=   0.0s\n",
            "[CV] END ..............................................C=100; total time=   0.0s\n",
            "[CV] END ..............................................C=100; total time=   0.0s\n",
            "[CV] END ..............................................C=100; total time=   0.0s\n",
            "[CV] END .............................................C=1000; total time=   0.0s\n"
          ]
        },
        {
          "name": "stderr",
          "output_type": "stream",
          "text": [
            "C:\\Users\\isaca\\AppData\\Local\\Programs\\Python\\Python39\\lib\\site-packages\\sklearn\\linear_model\\_logistic.py:814: ConvergenceWarning: lbfgs failed to converge (status=1):\n",
            "STOP: TOTAL NO. of ITERATIONS REACHED LIMIT.\n",
            "\n",
            "Increase the number of iterations (max_iter) or scale the data as shown in:\n",
            "    https://scikit-learn.org/stable/modules/preprocessing.html\n",
            "Please also refer to the documentation for alternative solver options:\n",
            "    https://scikit-learn.org/stable/modules/linear_model.html#logistic-regression\n",
            "  n_iter_i = _check_optimize_result(\n",
            "C:\\Users\\isaca\\AppData\\Local\\Programs\\Python\\Python39\\lib\\site-packages\\sklearn\\linear_model\\_logistic.py:814: ConvergenceWarning: lbfgs failed to converge (status=1):\n",
            "STOP: TOTAL NO. of ITERATIONS REACHED LIMIT.\n",
            "\n",
            "Increase the number of iterations (max_iter) or scale the data as shown in:\n",
            "    https://scikit-learn.org/stable/modules/preprocessing.html\n",
            "Please also refer to the documentation for alternative solver options:\n",
            "    https://scikit-learn.org/stable/modules/linear_model.html#logistic-regression\n",
            "  n_iter_i = _check_optimize_result(\n",
            "C:\\Users\\isaca\\AppData\\Local\\Programs\\Python\\Python39\\lib\\site-packages\\sklearn\\linear_model\\_logistic.py:814: ConvergenceWarning: lbfgs failed to converge (status=1):\n",
            "STOP: TOTAL NO. of ITERATIONS REACHED LIMIT.\n",
            "\n",
            "Increase the number of iterations (max_iter) or scale the data as shown in:\n",
            "    https://scikit-learn.org/stable/modules/preprocessing.html\n",
            "Please also refer to the documentation for alternative solver options:\n",
            "    https://scikit-learn.org/stable/modules/linear_model.html#logistic-regression\n",
            "  n_iter_i = _check_optimize_result(\n"
          ]
        },
        {
          "name": "stdout",
          "output_type": "stream",
          "text": [
            "[CV] END .............................................C=1000; total time=   0.0s\n",
            "[CV] END .............................................C=1000; total time=   0.0s\n",
            "[CV] END .............................................C=1000; total time=   0.0s\n",
            "[CV] END .............................................C=1000; total time=   0.0s\n"
          ]
        },
        {
          "name": "stderr",
          "output_type": "stream",
          "text": [
            "C:\\Users\\isaca\\AppData\\Local\\Programs\\Python\\Python39\\lib\\site-packages\\sklearn\\linear_model\\_logistic.py:814: ConvergenceWarning: lbfgs failed to converge (status=1):\n",
            "STOP: TOTAL NO. of ITERATIONS REACHED LIMIT.\n",
            "\n",
            "Increase the number of iterations (max_iter) or scale the data as shown in:\n",
            "    https://scikit-learn.org/stable/modules/preprocessing.html\n",
            "Please also refer to the documentation for alternative solver options:\n",
            "    https://scikit-learn.org/stable/modules/linear_model.html#logistic-regression\n",
            "  n_iter_i = _check_optimize_result(\n",
            "C:\\Users\\isaca\\AppData\\Local\\Programs\\Python\\Python39\\lib\\site-packages\\sklearn\\linear_model\\_logistic.py:814: ConvergenceWarning: lbfgs failed to converge (status=1):\n",
            "STOP: TOTAL NO. of ITERATIONS REACHED LIMIT.\n",
            "\n",
            "Increase the number of iterations (max_iter) or scale the data as shown in:\n",
            "    https://scikit-learn.org/stable/modules/preprocessing.html\n",
            "Please also refer to the documentation for alternative solver options:\n",
            "    https://scikit-learn.org/stable/modules/linear_model.html#logistic-regression\n",
            "  n_iter_i = _check_optimize_result(\n"
          ]
        },
        {
          "data": {
            "text/plain": [
              "GridSearchCV(estimator=LogisticRegression(),\n",
              "             param_grid={'C': [0.001, 0.01, 0.1, 1, 10, 100, 1000]},\n",
              "             scoring='accuracy', verbose=2)"
            ]
          },
          "execution_count": 111,
          "metadata": {},
          "output_type": "execute_result"
        }
      ],
      "source": [
        "logreg_GS.fit(X_dev, y_dev)"
      ]
    },
    {
      "cell_type": "code",
      "execution_count": 112,
      "metadata": {},
      "outputs": [
        {
          "name": "stdout",
          "output_type": "stream",
          "text": [
            "LogisticRegression(C=1)\n"
          ]
        }
      ],
      "source": [
        "print(logreg_GS.best_estimator_)"
      ]
    },
    {
      "cell_type": "markdown",
      "metadata": {},
      "source": [
        "Tendo em vista que C = 1 é o default para a Regressão Logística, a otimização não cumpriu com o resultado desejado. Entretanto, as métricas não tão elevadas podem ser justificadas pelo fato do modelo de predição utilizado ser mais básico, por isso não possuem um desempenho tão proveitoso quanto modelos que abrangem redes neurais."
      ]
    },
    {
      "cell_type": "markdown",
      "metadata": {
        "id": "w0ZSRQ0m5Ls-"
      },
      "source": [
        "## **Parte 4 - Embeddings (Word2Vec)**"
      ]
    },
    {
      "cell_type": "code",
      "execution_count": 113,
      "metadata": {},
      "outputs": [],
      "source": [
        "import gensim\n",
        "from gensim.models import Word2Vec\n",
        "from gensim.models.phrases import Phrases, Phraser"
      ]
    },
    {
      "cell_type": "code",
      "execution_count": 114,
      "metadata": {},
      "outputs": [],
      "source": [
        "# Detectando os bigramas\n",
        "\n",
        "texto = [linha for linha in df_train['lemmas']]\n",
        "\n",
        "phrases = Phrases(texto, min_count=30)\n",
        "bigram = Phraser(phrases)\n",
        "\n",
        "reviews = bigram[texto]"
      ]
    },
    {
      "cell_type": "code",
      "execution_count": 115,
      "metadata": {},
      "outputs": [],
      "source": [
        "# Ajustando o modelo\n",
        "\n",
        "modelo = Word2Vec(min_count=2, vector_size=80, window=2)"
      ]
    },
    {
      "cell_type": "code",
      "execution_count": 116,
      "metadata": {},
      "outputs": [],
      "source": [
        "# Tabela de Vocabulário\n",
        "\n",
        "modelo.build_vocab(reviews)"
      ]
    },
    {
      "cell_type": "code",
      "execution_count": 117,
      "metadata": {},
      "outputs": [
        {
          "data": {
            "text/plain": [
              "(15789116, 17722860)"
            ]
          },
          "execution_count": 117,
          "metadata": {},
          "output_type": "execute_result"
        }
      ],
      "source": [
        "# Treinando o modelo\n",
        "\n",
        "modelo.train(reviews, total_examples=modelo.corpus_count, epochs=20, report_delay=1) "
      ]
    },
    {
      "cell_type": "markdown",
      "metadata": {},
      "source": [
        "#### Análise dos resultados"
      ]
    },
    {
      "cell_type": "markdown",
      "metadata": {},
      "source": [
        "##### most_similar"
      ]
    },
    {
      "cell_type": "code",
      "execution_count": 118,
      "metadata": {},
      "outputs": [
        {
          "data": {
            "text/plain": [
              "[('gamebut', 0.599847674369812),\n",
              " ('gamethe', 0.5960521101951599),\n",
              " ('gamei', 0.5922689437866211),\n",
              " ('gameit', 0.5872412919998169),\n",
              " ('title', 0.580708384513855),\n",
              " ('gamesthe', 0.5445588827133179),\n",
              " ('gameoverall', 0.5347079634666443),\n",
              " ('rpgs', 0.5309397578239441),\n",
              " ('gamethis', 0.5240120887756348),\n",
              " ('gamesit', 0.5191558599472046)]"
            ]
          },
          "execution_count": 118,
          "metadata": {},
          "output_type": "execute_result"
        }
      ],
      "source": [
        "modelo.wv.most_similar(positive = 'game')"
      ]
    },
    {
      "cell_type": "code",
      "execution_count": 119,
      "metadata": {},
      "outputs": [
        {
          "data": {
            "text/plain": [
              "[('main_character', 0.6127033233642578),\n",
              " ('npc', 0.5735983848571777),\n",
              " ('personality', 0.518189013004303),\n",
              " ('companion', 0.5046131610870361),\n",
              " ('male', 0.4963417053222656),\n",
              " ('wrestler', 0.48199227452278137),\n",
              " ('preset', 0.4809494614601135),\n",
              " ('paragonrenegade', 0.4720008373260498),\n",
              " ('song', 0.46655645966529846),\n",
              " ('gender', 0.4661100208759308)]"
            ]
          },
          "execution_count": 119,
          "metadata": {},
          "output_type": "execute_result"
        }
      ],
      "source": [
        "modelo.wv.most_similar(positive = 'character')"
      ]
    },
    {
      "cell_type": "markdown",
      "metadata": {},
      "source": [
        "##### similarity"
      ]
    },
    {
      "cell_type": "code",
      "execution_count": 120,
      "metadata": {},
      "outputs": [
        {
          "data": {
            "text/plain": [
              "0.42386305"
            ]
          },
          "execution_count": 120,
          "metadata": {},
          "output_type": "execute_result"
        }
      ],
      "source": [
        "modelo.wv.similarity('character', 'female')"
      ]
    },
    {
      "cell_type": "code",
      "execution_count": 121,
      "metadata": {},
      "outputs": [
        {
          "data": {
            "text/plain": [
              "0.49634168"
            ]
          },
          "execution_count": 121,
          "metadata": {},
          "output_type": "execute_result"
        }
      ],
      "source": [
        "modelo.wv.similarity('character', 'male')"
      ]
    },
    {
      "cell_type": "code",
      "execution_count": 122,
      "metadata": {},
      "outputs": [
        {
          "data": {
            "text/plain": [
              "0.6473558"
            ]
          },
          "execution_count": 122,
          "metadata": {},
          "output_type": "execute_result"
        }
      ],
      "source": [
        "modelo.wv.similarity('good', 'bad')"
      ]
    },
    {
      "cell_type": "code",
      "execution_count": 123,
      "metadata": {},
      "outputs": [
        {
          "data": {
            "text/plain": [
              "0.2986012"
            ]
          },
          "execution_count": 123,
          "metadata": {},
          "output_type": "execute_result"
        }
      ],
      "source": [
        "modelo.wv.similarity('bad', 'hate')"
      ]
    },
    {
      "cell_type": "code",
      "execution_count": 124,
      "metadata": {},
      "outputs": [
        {
          "data": {
            "text/plain": [
              "0.15379564"
            ]
          },
          "execution_count": 124,
          "metadata": {},
          "output_type": "execute_result"
        }
      ],
      "source": [
        "modelo.wv.similarity('problem', 'bad')"
      ]
    },
    {
      "cell_type": "markdown",
      "metadata": {},
      "source": [
        "##### doesnt_match"
      ]
    },
    {
      "cell_type": "code",
      "execution_count": 125,
      "metadata": {},
      "outputs": [
        {
          "data": {
            "text/plain": [
              "'fun'"
            ]
          },
          "execution_count": 125,
          "metadata": {},
          "output_type": "execute_result"
        }
      ],
      "source": [
        "modelo.wv.doesnt_match(['good', 'fun', 'great', 'bad'])"
      ]
    },
    {
      "cell_type": "code",
      "execution_count": 126,
      "metadata": {},
      "outputs": [
        {
          "data": {
            "text/plain": [
              "'like'"
            ]
          },
          "execution_count": 126,
          "metadata": {},
          "output_type": "execute_result"
        }
      ],
      "source": [
        "modelo.wv.doesnt_match(['game', 'play', 'xbox', 'player', 'like'])"
      ]
    },
    {
      "cell_type": "markdown",
      "metadata": {},
      "source": [
        "##### Analogias"
      ]
    },
    {
      "cell_type": "code",
      "execution_count": 127,
      "metadata": {},
      "outputs": [],
      "source": [
        "def analogy(x1,x2,y1):\n",
        "  y2 = modelo.wv.most_similar(positive = [y1, x2], negative = [x1])\n",
        "  return y2"
      ]
    },
    {
      "cell_type": "code",
      "execution_count": 128,
      "metadata": {},
      "outputs": [
        {
          "data": {
            "text/plain": [
              "'hated'"
            ]
          },
          "execution_count": 128,
          "metadata": {},
          "output_type": "execute_result"
        }
      ],
      "source": [
        "analogy('player', 'game', 'love')[0][0]"
      ]
    },
    {
      "cell_type": "code",
      "execution_count": 129,
      "metadata": {},
      "outputs": [
        {
          "data": {
            "text/plain": [
              "'darn'"
            ]
          },
          "execution_count": 129,
          "metadata": {},
          "output_type": "execute_result"
        }
      ],
      "source": [
        "analogy('great', 'fun', 'bad')[0][0]"
      ]
    }
  ],
  "metadata": {
    "colab": {
      "collapsed_sections": [],
      "name": "Projeto_NLP.ipynb",
      "provenance": []
    },
    "kernelspec": {
      "display_name": "Python 3",
      "name": "python3"
    },
    "language_info": {
      "codemirror_mode": {
        "name": "ipython",
        "version": 3
      },
      "file_extension": ".py",
      "mimetype": "text/x-python",
      "name": "python",
      "nbconvert_exporter": "python",
      "pygments_lexer": "ipython3",
      "version": "3.9.5"
    }
  },
  "nbformat": 4,
  "nbformat_minor": 0
}
